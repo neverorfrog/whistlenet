{
 "cells": [
  {
   "cell_type": "markdown",
   "metadata": {},
   "source": [
    "# Whistle Detection"
   ]
  },
  {
   "cell_type": "markdown",
   "metadata": {},
   "source": [
    "## Dataset Preparation"
   ]
  },
  {
   "cell_type": "code",
   "execution_count": null,
   "metadata": {},
   "outputs": [],
   "source": [
    "import warnings\n",
    "warnings.filterwarnings(\"ignore\")\n",
    "from datamodules.whistle import WhistleDataset\n",
    "from models import WHISTLEDATA_CONFIG as DATA_PARAMS\n",
    "\n",
    "dataset = WhistleDataset(name = 'whistle/saved/boh', tobeloaded=True, params=DATA_PARAMS)\n",
    "dataset.summarize()"
   ]
  },
  {
   "cell_type": "markdown",
   "metadata": {},
   "source": [
    "## Training"
   ]
  },
  {
   "cell_type": "code",
   "execution_count": null,
   "metadata": {},
   "outputs": [],
   "source": [
    "from models import WhistleNet\n",
    "from models import WHISTLETRAIN_CONFIG as TRAIN_PARAMS\n",
    "from core.trainer import Trainer\n",
    "import time\n",
    "import matplotlib.pyplot as plt # type: ignore\n",
    "\n",
    "complete_plot = False\n",
    "train_model = False\n",
    "names = []\n",
    "names.append('whistle/boh') # TODO hardcodato\n",
    "for name in names:\n",
    "    model = WhistleNet(name,num_classes=5)\n",
    "    trainer = Trainer(params=TRAIN_PARAMS)\n",
    "    \n",
    "    if not train_model:\n",
    "        model.load(name)\n",
    "    else:\n",
    "        start_time = time.time()\n",
    "        trainer.fit(model,dataset)\n",
    "        model.training_time = time.time() - start_time\n",
    "    \n",
    "    plt.plot(model.test_scores, label=f'{name} - test scores')\n",
    "    if complete_plot:\n",
    "        plt.plot(model.train_scores, label=f'{name} - train scores')\n",
    "        plt.plot(model.val_scores, label=f'{name} - val scores')\n",
    "        \n",
    "plt.legend()\n",
    "plt.ylabel('score')\n",
    "plt.xlabel('epoch')\n",
    "plt.show()"
   ]
  },
  {
   "cell_type": "markdown",
   "metadata": {},
   "source": [
    "## Inference"
   ]
  },
  {
   "cell_type": "code",
   "execution_count": null,
   "metadata": {},
   "outputs": [],
   "source": [
    "import torch\n",
    "# import sounddevice as sd\n",
    "from datamodules.whistle import Audio\n",
    "from core.utils import project_root\n",
    "\n",
    "def classify(window):\n",
    "    with torch.no_grad():\n",
    "        prediction = model(window)\n",
    "    predicted_class = torch.argmax(prediction).item()\n",
    "    if predicted_class == 0:\n",
    "        print(f\"{prediction}: NO\")\n",
    "    else:\n",
    "        print(f\"{prediction}: YES\")\n",
    "    return predicted_class\n",
    "\n",
    "\n",
    "projroot = project_root()\n",
    "audio = Audio(name=\"test4\", datapath=f'{projroot}/data/whistle/raw/test')\n",
    "for i in range(audio.S.shape[1]):\n",
    "    window = audio.S[:,i].reshape(1,1,513)\n",
    "    print(f\"frame {i}, time {audio.frame2time(i):.2f}\")\n",
    "    classify(window)\n",
    "audio.freq_plot()"
   ]
  }
 ],
 "metadata": {
  "kernelspec": {
   "display_name": "whistle",
   "language": "python",
   "name": "python3"
  },
  "language_info": {
   "codemirror_mode": {
    "name": "ipython",
    "version": 3
   },
   "file_extension": ".py",
   "mimetype": "text/x-python",
   "name": "python",
   "nbconvert_exporter": "python",
   "pygments_lexer": "ipython3",
   "version": "3.11.0"
  }
 },
 "nbformat": 4,
 "nbformat_minor": 2
}
