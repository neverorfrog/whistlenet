{
 "cells": [
  {
   "cell_type": "code",
   "execution_count": 12,
   "metadata": {},
   "outputs": [],
   "source": [
    "import sys\n",
    "sys.path.append('../')\n",
    "from datamodules.mnist import MnistDataset\n",
    "from core.trainer import Trainer\n",
    "from models import CNN\n",
    "from models import MNIST_CONFIG as config\n",
    "import torch\n",
    "import numpy as np\n",
    "from matplotlib import pyplot as plt\n",
    "from core import project_root\n",
    "projroot = project_root()"
   ]
  },
  {
   "cell_type": "code",
   "execution_count": 13,
   "metadata": {},
   "outputs": [
    {
     "name": "stdout",
     "output_type": "stream",
     "text": [
      "DATA SAVED!\n",
      "N Examples: 54000\n",
      "N Classes: 10\n",
      "Classes: [0 1 2 3 4 5 6 7 8 9]\n",
      " - Class 0: 5343 (9.894444444444444)\n",
      " - Class 1: 6036 (11.177777777777779)\n",
      " - Class 2: 5348 (9.903703703703703)\n",
      " - Class 3: 5583 (10.338888888888889)\n",
      " - Class 4: 5249 (9.720370370370372)\n",
      " - Class 5: 4859 (8.998148148148148)\n",
      " - Class 6: 5335 (9.87962962962963)\n",
      " - Class 7: 5664 (10.488888888888889)\n",
      " - Class 8: 5234 (9.692592592592593)\n",
      " - Class 9: 5349 (9.905555555555555)\n",
      "MODEL LOADED!\n"
     ]
    },
    {
     "data": {
      "text/plain": [
       "[<matplotlib.lines.Line2D at 0x70ab5c275ff0>]"
      ]
     },
     "execution_count": 13,
     "metadata": {},
     "output_type": "execute_result"
    },
    {
     "data": {
      "image/png": "[encoded data removed]",
      "text/plain": [
       "<Figure size 640x480 with 1 Axes>"
      ]
     },
     "metadata": {},
     "output_type": "display_data"
    }
   ],
   "source": [
    "dataset = MnistDataset(tobeloaded=False, params=config.DATA_PARAMS)\n",
    "dataset.summarize()\n",
    "model = CNN(\"mnist\", num_classes=10)\n",
    "trainer = Trainer(params=config.TRAIN_PARAMS)\n",
    "model.load(\"mnist\")\n",
    "# trainer.fit(model,dataset)\n",
    "plt.plot(model.test_scores, label=f'mnist - test scores')"
   ]
  },
  {
   "cell_type": "markdown",
   "metadata": {},
   "source": [
    "# Install\n",
    "\n",
    "### [Getting Started](https://pytorch.org/executorch/stable/getting-started-setup.html)\n",
    "### [Building with CMake](https://pytorch.org/executorch/stable/runtime-build-and-cross-compilation.html)\n",
    "\n",
    "# Toy Example \n",
    "### [PyTorch Source](https://pytorch.org/executorch/stable/tutorials/export-to-executorch-tutorial.html)\n",
    "\n",
    "![picture 1](images/workflow.png)"
   ]
  },
  {
   "cell_type": "code",
   "execution_count": 14,
   "metadata": {},
   "outputs": [
    {
     "data": {
      "text/plain": [
       "tensor([[-1.2054e-03,  7.8042e-03,  1.5622e+00,  2.0319e-01, -2.5658e-03,\n",
       "         -8.9394e-05,  9.3103e-01, -5.0285e-03, -1.3109e-02,  4.1132e-01]],\n",
       "       grad_fn=<MulBackward0>)"
      ]
     },
     "execution_count": 14,
     "metadata": {},
     "output_type": "execute_result"
    }
   ],
   "source": [
    "import torch.nn as nn\n",
    "\n",
    "class FullyConnected(torch.nn.Module):\n",
    "    #Fully Connected layers    \n",
    "    def __init__(self):\n",
    "        super().__init__()\n",
    "        fc_dims = [4,1]\n",
    "        self.activation = nn.ReLU()\n",
    "        self.example_args = (torch.randn(1, 4),)\n",
    "        fc_layers = []\n",
    "        for i in range(len(fc_dims)-1):\n",
    "            fc_layers.append(nn.Linear(fc_dims[i],fc_dims[i+1],bias=True))\n",
    "            fc_layers.append(self.activation)\n",
    "        self.fc = nn.Sequential(*fc_layers)\n",
    "\n",
    "    def forward(self, x):\n",
    "        return self.fc(x)\n",
    "    \n",
    "class Add(torch.nn.Module):\n",
    "    def __init__(self):\n",
    "        super().__init__()\n",
    "        self.example_args = (torch.randn(1, 4), torch.randn(1, 4))\n",
    "        \n",
    "    def forward(self,x,y):\n",
    "        return x + y\n",
    "    \n",
    "# m = FullyConnected()\n",
    "m = CNN(\"mnist\",num_classes=10)\n",
    "m(*m.example_args)\n",
    "# m.load(\"mnist\")"
   ]
  },
  {
   "cell_type": "markdown",
   "metadata": {},
   "source": [
    "1) Pre-Autograd ATen Dialect\n",
    "    - Trace a module before any pre-autograd decomposition is run. Later this API will be changed like stated [here](https://github.com/pytorch/executorch/issues/290)\n",
    "        - Tracing means converting a PyTorch model into a more efficient, serialized format suitable for deployment in production or environments where Python might not be available.\n",
    "    - The result is still nn.Module but only with ATen operations, which are safe for eager mode training\n",
    "        - Eager mode training means we are still in an imperative fashion\n",
    "    - We will print the graph, represented through [Torch Fx](https://pytorch.org/docs/stable/fx.html#module-torch.fx), in a table to explicitly represent inputs, operations and outputs (more info [here](https://pytorch.org/docs/stable/fx.html#torch.fx.Node))"
   ]
  },
  {
   "cell_type": "code",
   "execution_count": 15,
   "metadata": {},
   "outputs": [
    {
     "name": "stdout",
     "output_type": "stream",
     "text": [
      "Pre-Autograd ATen Dialect Graph\n",
      "opcode         name              target                   args                                              kwargs\n",
      "-------------  ----------------  -----------------------  ------------------------------------------------  -------------------------------------------------------------------------------\n",
      "placeholder    arg0_1            arg0                     ()                                                {}\n",
      "call_function  to                aten.to.dtype            (arg0_1, torch.float32)                           {}\n",
      "call_function  to_1              aten.to.dtype_layout     (to,)                                             {'dtype': torch.float32, 'layout': torch.strided, 'device': device(type='cpu')}\n",
      "get_attr       _param_constant0  conv_0_weight            ()                                                {}\n",
      "get_attr       _param_constant1  conv_0_bias              ()                                                {}\n",
      "call_function  conv2d            aten.conv2d.default      (to_1, _param_constant0, _param_constant1)        {}\n",
      "call_function  leaky_relu        aten.leaky_relu.default  (conv2d,)                                         {}\n",
      "call_function  max_pool2d        aten.max_pool2d.default  (leaky_relu, [2, 2], [2, 2])                      {}\n",
      "get_attr       _param_constant2  conv_3_weight            ()                                                {}\n",
      "get_attr       _param_constant3  conv_3_bias              ()                                                {}\n",
      "call_function  conv2d_1          aten.conv2d.default      (max_pool2d, _param_constant2, _param_constant3)  {}\n",
      "call_function  leaky_relu_1      aten.leaky_relu.default  (conv2d_1,)                                       {}\n",
      "call_function  max_pool2d_1      aten.max_pool2d.default  (leaky_relu_1, [2, 2], [2, 2])                    {}\n",
      "call_function  flatten           aten.flatten.using_ints  (max_pool2d_1, 1)                                 {}\n",
      "get_attr       _param_constant4  fc_0_weight              ()                                                {}\n",
      "get_attr       _param_constant5  fc_0_bias                ()                                                {}\n",
      "call_function  linear            aten.linear.default      (flatten, _param_constant4, _param_constant5)     {}\n",
      "call_function  leaky_relu_2      aten.leaky_relu.default  (linear,)                                         {}\n",
      "call_function  dropout           aten.dropout.default     (leaky_relu_2, 0.1, True)                         {}\n",
      "output         output            output                   ([dropout],)                                      {}\n"
     ]
    }
   ],
   "source": [
    "from torch._export import capture_pre_autograd_graph\n",
    "pre_autograd_aten_dialect = capture_pre_autograd_graph(m, m.example_args)\n",
    "print(\"Pre-Autograd ATen Dialect Graph\")\n",
    "pre_autograd_aten_dialect.graph.print_tabular()"
   ]
  },
  {
   "cell_type": "markdown",
   "metadata": {},
   "source": [
    "2) Quantization (optional)\n",
    "    - Lower the precision, maintaining the accuracy high enough\n",
    "    - Goal is to enhance memory and computational efficiency"
   ]
  },
  {
   "cell_type": "code",
   "execution_count": 16,
   "metadata": {},
   "outputs": [
    {
     "name": "stdout",
     "output_type": "stream",
     "text": [
      "Quantized Graph\n",
      "opcode         name                             target                                              args                                                                                  kwargs\n",
      "-------------  -------------------------------  --------------------------------------------------  ------------------------------------------------------------------------------------  -------------------------------------------------------------------------------\n",
      "placeholder    arg0_1                           arg0                                                ()                                                                                    {}\n",
      "call_function  to                               aten.to.dtype                                       (arg0_1, torch.float32)                                                               {}\n",
      "call_function  to_1                             aten.to.dtype_layout                                (to,)                                                                                 {'dtype': torch.float32, 'layout': torch.strided, 'device': device(type='cpu')}\n",
      "call_function  quantize_per_tensor_default      quantized_decomposed.quantize_per_tensor.default    (to_1, 1.0, 0, -128, 127, torch.int8)                                                 {}\n",
      "call_function  dequantize_per_tensor_default    quantized_decomposed.dequantize_per_tensor.default  (quantize_per_tensor_default, 1.0, 0, -128, 127, torch.int8)                          {}\n",
      "get_attr       _frozen_param0                   _frozen_param0                                      ()                                                                                    {}\n",
      "call_function  dequantize_per_tensor_default_1  quantized_decomposed.dequantize_per_tensor.default  (_frozen_param0, 1.0, 0, -127, 127, torch.int8)                                       {}\n",
      "get_attr       _param_constant1                 conv_0_bias                                         ()                                                                                    {}\n",
      "call_function  conv2d                           aten.conv2d.default                                 (dequantize_per_tensor_default, dequantize_per_tensor_default_1, _param_constant1)    {}\n",
      "call_function  quantize_per_tensor_default_2    quantized_decomposed.quantize_per_tensor.default    (conv2d, 1.0, 0, -128, 127, torch.int8)                                               {}\n",
      "call_function  dequantize_per_tensor_default_2  quantized_decomposed.dequantize_per_tensor.default  (quantize_per_tensor_default_2, 1.0, 0, -128, 127, torch.int8)                        {}\n",
      "call_function  leaky_relu                       aten.leaky_relu.default                             (dequantize_per_tensor_default_2,)                                                    {}\n",
      "call_function  max_pool2d                       aten.max_pool2d.default                             (leaky_relu, [2, 2], [2, 2])                                                          {}\n",
      "call_function  quantize_per_tensor_default_3    quantized_decomposed.quantize_per_tensor.default    (max_pool2d, 1.0, 0, -128, 127, torch.int8)                                           {}\n",
      "call_function  dequantize_per_tensor_default_3  quantized_decomposed.dequantize_per_tensor.default  (quantize_per_tensor_default_3, 1.0, 0, -128, 127, torch.int8)                        {}\n",
      "get_attr       _frozen_param1                   _frozen_param1                                      ()                                                                                    {}\n",
      "call_function  dequantize_per_tensor_default_4  quantized_decomposed.dequantize_per_tensor.default  (_frozen_param1, 1.0, 0, -127, 127, torch.int8)                                       {}\n",
      "get_attr       _param_constant3                 conv_3_bias                                         ()                                                                                    {}\n",
      "call_function  conv2d_1                         aten.conv2d.default                                 (dequantize_per_tensor_default_3, dequantize_per_tensor_default_4, _param_constant3)  {}\n",
      "call_function  quantize_per_tensor_default_5    quantized_decomposed.quantize_per_tensor.default    (conv2d_1, 1.0, 0, -128, 127, torch.int8)                                             {}\n",
      "call_function  dequantize_per_tensor_default_5  quantized_decomposed.dequantize_per_tensor.default  (quantize_per_tensor_default_5, 1.0, 0, -128, 127, torch.int8)                        {}\n",
      "call_function  leaky_relu_1                     aten.leaky_relu.default                             (dequantize_per_tensor_default_5,)                                                    {}\n",
      "call_function  max_pool2d_1                     aten.max_pool2d.default                             (leaky_relu_1, [2, 2], [2, 2])                                                        {}\n",
      "call_function  flatten                          aten.flatten.using_ints                             (max_pool2d_1, 1)                                                                     {}\n",
      "call_function  quantize_per_tensor_default_6    quantized_decomposed.quantize_per_tensor.default    (flatten, 1.0, 0, -128, 127, torch.int8)                                              {}\n",
      "call_function  dequantize_per_tensor_default_6  quantized_decomposed.dequantize_per_tensor.default  (quantize_per_tensor_default_6, 1.0, 0, -128, 127, torch.int8)                        {}\n",
      "get_attr       _frozen_param2                   _frozen_param2                                      ()                                                                                    {}\n",
      "call_function  dequantize_per_tensor_default_7  quantized_decomposed.dequantize_per_tensor.default  (_frozen_param2, 1.0, 0, -127, 127, torch.int8)                                       {}\n",
      "get_attr       _param_constant5                 fc_0_bias                                           ()                                                                                    {}\n",
      "call_function  linear                           aten.linear.default                                 (dequantize_per_tensor_default_6, dequantize_per_tensor_default_7, _param_constant5)  {}\n",
      "call_function  quantize_per_tensor_default_8    quantized_decomposed.quantize_per_tensor.default    (linear, 1.0, 0, -128, 127, torch.int8)                                               {}\n",
      "call_function  dequantize_per_tensor_default_8  quantized_decomposed.dequantize_per_tensor.default  (quantize_per_tensor_default_8, 1.0, 0, -128, 127, torch.int8)                        {}\n",
      "call_function  leaky_relu_2                     aten.leaky_relu.default                             (dequantize_per_tensor_default_8,)                                                    {}\n",
      "call_function  dropout                          aten.dropout.default                                (leaky_relu_2, 0.1, True)                                                             {}\n",
      "output         output                           output                                              ([dropout],)                                                                          {}\n"
     ]
    },
    {
     "name": "stderr",
     "output_type": "stream",
     "text": [
      "/home/neverorfrog/.miniconda3/envs/executorch/lib/python3.10/site-packages/torch/ao/quantization/observer.py:1272: UserWarning: must run observer before calling calculate_qparams.                                    Returning default scale and zero point \n",
      "  warnings.warn(\n",
      "/home/neverorfrog/.miniconda3/envs/executorch/lib/python3.10/site-packages/torch/ao/quantization/utils.py:339: UserWarning: must run observer before calling calculate_qparams. Returning default values.\n",
      "  warnings.warn(\n"
     ]
    }
   ],
   "source": [
    "from torch.ao.quantization.quantize_pt2e import convert_pt2e, prepare_pt2e\n",
    "from torch.ao.quantization.quantizer.xnnpack_quantizer import (\n",
    "    get_symmetric_quantization_config,\n",
    "    XNNPACKQuantizer,\n",
    ")\n",
    "\n",
    "quantizer = XNNPACKQuantizer().set_global(get_symmetric_quantization_config())\n",
    "prepared_graph = prepare_pt2e(pre_autograd_aten_dialect, quantizer)\n",
    "converted_graph = convert_pt2e(prepared_graph)\n",
    "print(\"Quantized Graph\")\n",
    "converted_graph.graph.print_tabular()"
   ]
  },
  {
   "cell_type": "markdown",
   "metadata": {},
   "source": [
    "3) Core ATen Dialect\n",
    "- [export()](https://pytorch.org/docs/2.1/export.html#torch.export.export) takes an arbitrary Python callable (an nn.Module, a function or a method) and produces a traced graph representing only the Tensor computation of the function in an Ahead-of-Time (AOT) fashion, which can subsequently be executed with different outputs or serialized. \n",
    "- The traced graph does three things \n",
    "    1) produces a normalized operator set consisting only of functional Core ATen Operator Set and user specified custom operators\n",
    "    2) has eliminated all Python control flow and data structures (except for certain conditions)\n",
    "    3) has the set of shape constraints needed to show that this normalization and control flow elimination is sound for a future input."
   ]
  },
  {
   "cell_type": "code",
   "execution_count": 17,
   "metadata": {},
   "outputs": [
    {
     "name": "stdout",
     "output_type": "stream",
     "text": [
      "ATen Dialect Graph\n",
      "opcode         name                       target                                args                                                                 kwargs\n",
      "-------------  -------------------------  ------------------------------------  -------------------------------------------------------------------  --------\n",
      "placeholder    arg0_1                     arg0_1                                ()                                                                   {}\n",
      "placeholder    arg1_1                     arg1_1                                ()                                                                   {}\n",
      "placeholder    arg2_1                     arg2_1                                ()                                                                   {}\n",
      "placeholder    arg3_1                     arg3_1                                ()                                                                   {}\n",
      "placeholder    arg4_1                     arg4_1                                ()                                                                   {}\n",
      "placeholder    arg5_1                     arg5_1                                ()                                                                   {}\n",
      "placeholder    arg6_1                     arg6_1                                ()                                                                   {}\n",
      "call_function  convolution                aten.convolution.default              (arg6_1, arg0_1, arg1_1, [1, 1], [0, 0], [1, 1], False, [0, 0], 1)   {}\n",
      "call_function  leaky_relu                 aten.leaky_relu.default               (convolution,)                                                       {}\n",
      "call_function  max_pool2d_with_indices    aten.max_pool2d_with_indices.default  (leaky_relu, [2, 2], [2, 2])                                         {}\n",
      "call_function  getitem                    <built-in function getitem>           (max_pool2d_with_indices, 0)                                         {}\n",
      "call_function  convolution_1              aten.convolution.default              (getitem, arg2_1, arg3_1, [1, 1], [0, 0], [1, 1], False, [0, 0], 1)  {}\n",
      "call_function  leaky_relu_1               aten.leaky_relu.default               (convolution_1,)                                                     {}\n",
      "call_function  max_pool2d_with_indices_1  aten.max_pool2d_with_indices.default  (leaky_relu_1, [2, 2], [2, 2])                                       {}\n",
      "call_function  getitem_2                  <built-in function getitem>           (max_pool2d_with_indices_1, 0)                                       {}\n",
      "call_function  view                       aten.view.default                     (getitem_2, [1, 320])                                                {}\n",
      "call_function  t                          aten.t.default                        (arg4_1,)                                                            {}\n",
      "call_function  addmm                      aten.addmm.default                    (arg5_1, view, t)                                                    {}\n",
      "call_function  leaky_relu_2               aten.leaky_relu.default               (addmm,)                                                             {}\n",
      "call_function  native_dropout             aten.native_dropout.default           (leaky_relu_2, 0.1, True)                                            {}\n",
      "call_function  getitem_4                  <built-in function getitem>           (native_dropout, 0)                                                  {}\n",
      "output         output                     output                                ((getitem_4,),)                                                      {}\n"
     ]
    }
   ],
   "source": [
    "from torch.export import export, ExportedProgram\n",
    "aten_dialect: ExportedProgram = export(pre_autograd_aten_dialect, m.example_args)\n",
    "print(\"ATen Dialect Graph\")\n",
    "aten_dialect.graph.print_tabular()"
   ]
  },
  {
   "cell_type": "markdown",
   "metadata": {},
   "source": [
    "4) Edge Dialect\n",
    "- to_edge() returns an EdgeProgramManager object, which contains the exported programs which will be placed on this device\n",
    "    - DType specialization\n",
    "    - Scalar to tensor conversion\n",
    "    - Converting all ops to the executorch.exir.dialects.edge namespace"
   ]
  },
  {
   "cell_type": "code",
   "execution_count": 18,
   "metadata": {},
   "outputs": [
    {
     "name": "stdout",
     "output_type": "stream",
     "text": [
      "Edge Dialect Graph\n",
      "opcode         name                                    target                                                                                                                                                                                                                                      args                                                                 kwargs\n",
      "-------------  --------------------------------------  ------------------------------------------------------------------------------------------------------------------------------------------------------------------------------------------------------------------------------------------  -------------------------------------------------------------------  --------\n",
      "placeholder    arg0_1                                  arg0_1                                                                                                                                                                                                                                      ()                                                                   {}\n",
      "placeholder    arg1_1                                  arg1_1                                                                                                                                                                                                                                      ()                                                                   {}\n",
      "placeholder    arg2_1                                  arg2_1                                                                                                                                                                                                                                      ()                                                                   {}\n",
      "placeholder    arg3_1                                  arg3_1                                                                                                                                                                                                                                      ()                                                                   {}\n",
      "placeholder    arg4_1                                  arg4_1                                                                                                                                                                                                                                      ()                                                                   {}\n",
      "placeholder    arg5_1                                  arg5_1                                                                                                                                                                                                                                      ()                                                                   {}\n",
      "placeholder    arg6_1                                  arg6_1                                                                                                                                                                                                                                      ()                                                                   {}\n",
      "call_function  aten_convolution_default                <EdgeOpOverload: aten.convolution.default>: schema = aten::convolution(Tensor input, Tensor weight, Tensor? bias, SymInt[] stride, SymInt[] padding, SymInt[] dilation, bool transposed, SymInt[] output_padding, SymInt groups) -> Tensor  (arg6_1, arg0_1, arg1_1, [1, 1], [0, 0], [1, 1], False, [0, 0], 1)   {}\n",
      "call_function  aten_leaky_relu_default                 <EdgeOpOverload: aten.leaky_relu.default>: schema = aten::leaky_relu(Tensor self, Scalar negative_slope=0.01) -> Tensor                                                                                                                     (aten_convolution_default,)                                          {}\n",
      "call_function  aten_max_pool2d_with_indices_default    <EdgeOpOverload: aten.max_pool2d_with_indices.default>: schema = aten::max_pool2d_with_indices(Tensor self, int[2] kernel_size, int[2] stride=[], int[2] padding=0, int[2] dilation=1, bool ceil_mode=False) -> (Tensor, Tensor)            (aten_leaky_relu_default, [2, 2], [2, 2])                            {}\n",
      "call_function  getitem                                 <built-in function getitem>                                                                                                                                                                                                                 (aten_max_pool2d_with_indices_default, 0)                            {}\n",
      "call_function  aten_convolution_default_1              <EdgeOpOverload: aten.convolution.default>: schema = aten::convolution(Tensor input, Tensor weight, Tensor? bias, SymInt[] stride, SymInt[] padding, SymInt[] dilation, bool transposed, SymInt[] output_padding, SymInt groups) -> Tensor  (getitem, arg2_1, arg3_1, [1, 1], [0, 0], [1, 1], False, [0, 0], 1)  {}\n",
      "call_function  aten_leaky_relu_default_1               <EdgeOpOverload: aten.leaky_relu.default>: schema = aten::leaky_relu(Tensor self, Scalar negative_slope=0.01) -> Tensor                                                                                                                     (aten_convolution_default_1,)                                        {}\n",
      "call_function  aten_max_pool2d_with_indices_default_1  <EdgeOpOverload: aten.max_pool2d_with_indices.default>: schema = aten::max_pool2d_with_indices(Tensor self, int[2] kernel_size, int[2] stride=[], int[2] padding=0, int[2] dilation=1, bool ceil_mode=False) -> (Tensor, Tensor)            (aten_leaky_relu_default_1, [2, 2], [2, 2])                          {}\n",
      "call_function  getitem_1                               <built-in function getitem>                                                                                                                                                                                                                 (aten_max_pool2d_with_indices_default_1, 0)                          {}\n",
      "call_function  aten_view_copy_default                  <EdgeOpOverload: aten.view_copy.default>: schema = aten::view_copy(Tensor self, SymInt[] size) -> Tensor                                                                                                                                    (getitem_1, [1, 320])                                                {}\n",
      "call_function  aten_permute_copy_default               <EdgeOpOverload: aten.permute_copy.default>: schema = aten::permute_copy(Tensor self, int[] dims) -> Tensor                                                                                                                                 (arg4_1, [1, 0])                                                     {}\n",
      "call_function  aten_addmm_default                      <EdgeOpOverload: aten.addmm.default>: schema = aten::addmm(Tensor self, Tensor mat1, Tensor mat2, *, Scalar beta=1, Scalar alpha=1) -> Tensor                                                                                               (arg5_1, aten_view_copy_default, aten_permute_copy_default)          {}\n",
      "call_function  aten_leaky_relu_default_2               <EdgeOpOverload: aten.leaky_relu.default>: schema = aten::leaky_relu(Tensor self, Scalar negative_slope=0.01) -> Tensor                                                                                                                     (aten_addmm_default,)                                                {}\n",
      "call_function  aten_native_dropout_default             <EdgeOpOverload: aten.native_dropout.default>: schema = aten::native_dropout(Tensor input, float p, bool? train) -> (Tensor, Tensor)                                                                                                        (aten_leaky_relu_default_2, 0.1, True)                               {}\n",
      "call_function  getitem_2                               <built-in function getitem>                                                                                                                                                                                                                 (aten_native_dropout_default, 0)                                     {}\n",
      "output         output                                  output                                                                                                                                                                                                                                      ((getitem_2,),)                                                      {}\n"
     ]
    }
   ],
   "source": [
    "from executorch.exir import EdgeProgramManager, to_edge\n",
    "edge_program: EdgeProgramManager = to_edge(aten_dialect)\n",
    "print(\"Edge Dialect Graph\")\n",
    "to_be_lowered_module = edge_program.exported_program()\n",
    "to_be_lowered_module.graph.print_tabular()"
   ]
  },
  {
   "cell_type": "markdown",
   "metadata": {},
   "source": [
    "5. Delegate to a Backend (optional)"
   ]
  },
  {
   "cell_type": "code",
   "execution_count": 19,
   "metadata": {},
   "outputs": [],
   "source": [
    "from executorch.exir.backend.backend_api import LoweredBackendModule, to_backend\n",
    "from executorch.exir.backend.test.backend_with_compiler_demo import (  # noqa\n",
    "    BackendWithCompilerDemo,\n",
    ")"
   ]
  },
  {
   "cell_type": "markdown",
   "metadata": {},
   "source": [
    "6. Executorch Programs"
   ]
  },
  {
   "cell_type": "code",
   "execution_count": 20,
   "metadata": {},
   "outputs": [
    {
     "name": "stdout",
     "output_type": "stream",
     "text": [
      "ExecuTorch Dialect\n",
      "opcode         name                                    target                              args                                                                 kwargs\n",
      "-------------  --------------------------------------  ----------------------------------  -------------------------------------------------------------------  ------------------------------------\n",
      "placeholder    arg0_1                                  arg0_1                              ()                                                                   {}\n",
      "placeholder    arg1_1                                  arg1_1                              ()                                                                   {}\n",
      "placeholder    arg2_1                                  arg2_1                              ()                                                                   {}\n",
      "placeholder    arg3_1                                  arg3_1                              ()                                                                   {}\n",
      "placeholder    arg4_1                                  arg4_1                              ()                                                                   {}\n",
      "placeholder    arg5_1                                  arg5_1                              ()                                                                   {}\n",
      "placeholder    arg6_1                                  arg6_1                              ()                                                                   {}\n",
      "call_function  alloc                                   <function alloc at 0x70ab6a27e560>  (((1, 10, 24, 24), torch.float32),)                                  {}\n",
      "call_function  aten_convolution_default                aten.convolution.out                (arg6_1, arg0_1, arg1_1, [1, 1], [0, 0], [1, 1], False, [0, 0], 1)   {'out': alloc}\n",
      "call_function  alloc_1                                 <function alloc at 0x70ab6a27e560>  (((1, 10, 24, 24), torch.float32),)                                  {}\n",
      "call_function  aten_leaky_relu_default                 aten.leaky_relu.out                 (aten_convolution_default,)                                          {'out': alloc_1}\n",
      "call_function  alloc_2                                 <function alloc at 0x70ab6a27e560>  (((1, 10, 12, 12), torch.float32),)                                  {}\n",
      "call_function  alloc_3                                 <function alloc at 0x70ab6a27e560>  (((1, 10, 12, 12), torch.int64),)                                    {}\n",
      "call_function  aten_max_pool2d_with_indices_default    aten.max_pool2d_with_indices.out    (aten_leaky_relu_default, [2, 2], [2, 2])                            {'out': alloc_2, 'indices': alloc_3}\n",
      "call_function  getitem                                 <built-in function getitem>         (aten_max_pool2d_with_indices_default, 0)                            {}\n",
      "call_function  alloc_4                                 <function alloc at 0x70ab6a27e560>  (((1, 20, 8, 8), torch.float32),)                                    {}\n",
      "call_function  aten_convolution_default_1              aten.convolution.out                (getitem, arg2_1, arg3_1, [1, 1], [0, 0], [1, 1], False, [0, 0], 1)  {'out': alloc_4}\n",
      "call_function  alloc_5                                 <function alloc at 0x70ab6a27e560>  (((1, 20, 8, 8), torch.float32),)                                    {}\n",
      "call_function  aten_leaky_relu_default_1               aten.leaky_relu.out                 (aten_convolution_default_1,)                                        {'out': alloc_5}\n",
      "call_function  alloc_6                                 <function alloc at 0x70ab6a27e560>  (((1, 20, 4, 4), torch.float32),)                                    {}\n",
      "call_function  alloc_7                                 <function alloc at 0x70ab6a27e560>  (((1, 20, 4, 4), torch.int64),)                                      {}\n",
      "call_function  aten_max_pool2d_with_indices_default_1  aten.max_pool2d_with_indices.out    (aten_leaky_relu_default_1, [2, 2], [2, 2])                          {'out': alloc_6, 'indices': alloc_7}\n",
      "call_function  getitem_1                               <built-in function getitem>         (aten_max_pool2d_with_indices_default_1, 0)                          {}\n",
      "call_function  alloc_8                                 <function alloc at 0x70ab6a27e560>  (((1, 320), torch.float32),)                                         {}\n",
      "call_function  aten_view_copy_default                  aten.view_copy.out                  (getitem_1, [1, 320])                                                {'out': alloc_8}\n",
      "call_function  alloc_9                                 <function alloc at 0x70ab6a27e560>  (((320, 10), torch.float32),)                                        {}\n",
      "call_function  aten_permute_copy_default               aten.permute_copy.out               (arg4_1, [1, 0])                                                     {'out': alloc_9}\n",
      "call_function  alloc_10                                <function alloc at 0x70ab6a27e560>  (((1, 10), torch.float32),)                                          {}\n",
      "call_function  aten_addmm_default                      aten.addmm.out                      (arg5_1, aten_view_copy_default, aten_permute_copy_default)          {'out': alloc_10}\n",
      "call_function  alloc_11                                <function alloc at 0x70ab6a27e560>  (((1, 10), torch.float32),)                                          {}\n",
      "call_function  aten_leaky_relu_default_2               aten.leaky_relu.out                 (aten_addmm_default,)                                                {'out': alloc_11}\n",
      "call_function  alloc_12                                <function alloc at 0x70ab6a27e560>  (((1, 10), torch.float32),)                                          {}\n",
      "call_function  alloc_13                                <function alloc at 0x70ab6a27e560>  (((1, 10), torch.bool),)                                             {}\n",
      "call_function  aten_native_dropout_default             aten.native_dropout.out             (aten_leaky_relu_default_2, 0.1, True)                               {'out0': alloc_12, 'out1': alloc_13}\n",
      "call_function  getitem_2                               <built-in function getitem>         (aten_native_dropout_default, 0)                                     {}\n",
      "output         output_1                                output                              ((getitem_2,),)                                                      {}\n",
      "None\n"
     ]
    }
   ],
   "source": [
    "from executorch.exir import ExecutorchBackendConfig, ExecutorchProgramManager\n",
    "from executorch.exir.passes import MemoryPlanningPass\n",
    "\n",
    "executorch_program: ExecutorchProgramManager = edge_program.to_executorch(\n",
    "    ExecutorchBackendConfig(\n",
    "        passes=[],  # User-defined passes\n",
    "        memory_planning_pass=MemoryPlanningPass(\n",
    "            \"greedy\"\n",
    "        ),  # Default memory planning pass\n",
    "    )\n",
    ")\n",
    "\n",
    "print(\"ExecuTorch Dialect\")\n",
    "print(executorch_program.exported_program().graph.print_tabular())\n",
    "\n",
    "\n",
    "with open(f\"{projroot}/model-weights/executorch/cnn/model.pte\", \"wb\") as file:\n",
    "    file.write(executorch_program.buffer)"
   ]
  }
 ],
 "metadata": {
  "kernelspec": {
   "display_name": "machine-learning",
   "language": "python",
   "name": "python3"
  },
  "language_info": {
   "codemirror_mode": {
    "name": "ipython",
    "version": 3
   },
   "file_extension": ".py",
   "mimetype": "text/x-python",
   "name": "python",
   "nbconvert_exporter": "python",
   "pygments_lexer": "ipython3",
   "version": "3.10.0"
  }
 },
 "nbformat": 4,
 "nbformat_minor": 2
}
