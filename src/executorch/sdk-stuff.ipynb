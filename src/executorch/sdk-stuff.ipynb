{
 "cells": [
  {
   "cell_type": "code",
   "execution_count": 1,
   "metadata": {},
   "outputs": [],
   "source": [
    "from typing import List\n",
    "from export_utils import *\n",
    "import sys\n",
    "sys.path.append('../')\n",
    "from models import CNN\n",
    "from executorch.sdk.bundled_program.core import BundledProgram # type: ignore\n",
    "from executorch.sdk.bundled_program.config import ( # type: ignore\n",
    "    MethodInputType,\n",
    "    MethodTestCase,\n",
    "    MethodTestSuite,\n",
    ")\n",
    "\n",
    "from executorch.sdk.bundled_program.serialize import ( # type: ignore\n",
    "    serialize_from_bundled_program_to_flatbuffer,\n",
    ")\n",
    "import warnings\n",
    "warnings.filterwarnings(\"ignore\")"
   ]
  },
  {
   "cell_type": "code",
   "execution_count": 3,
   "metadata": {},
   "outputs": [
    {
     "name": "stdout",
     "output_type": "stream",
     "text": [
      "MODEL LOADED!\n",
      "Exporting executorch program...\n"
     ]
    }
   ],
   "source": [
    "model = CNN(\"mnist\", num_classes=10)\n",
    "model.load(\"mnist\")\n",
    "print(\"Exporting executorch program...\")\n",
    "executorch_program : ExecutorchProgramManager = export_to_exec_prog(model=model, example_inputs=model.example_args)"
   ]
  },
  {
   "cell_type": "code",
   "execution_count": 5,
   "metadata": {},
   "outputs": [
    {
     "name": "stdout",
     "output_type": "stream",
     "text": [
      "Creating bundled test cases...\n"
     ]
    }
   ],
   "source": [
    "print(\"Creating bundled test cases...\")\n",
    "method_names = [\n",
    "    method.name for method in executorch_program.executorch_program.execution_plan\n",
    "]\n",
    "program_inputs = {\n",
    "    m_name: [model.example_args] for m_name in method_names\n",
    "}\n",
    "method_test_suites: List[MethodTestSuite] = []\n",
    "for m_name in method_names:\n",
    "    method_inputs = program_inputs[m_name]\n",
    "    \n",
    "    # To create a bundled program, we first create every test cases from input. We leverage eager model\n",
    "    # to generate expected output for each test input, and use MethodTestCase to hold the information of\n",
    "    # each test case. We gather all MethodTestCase for same method into one MethodTestSuite, and generate\n",
    "    # bundled program by all MethodTestSuites.\n",
    "    method_test_cases: List[MethodTestCase] = []\n",
    "    for method_input in method_inputs:\n",
    "        method_test_cases.append(\n",
    "            MethodTestCase(\n",
    "                inputs=method_input,\n",
    "                expected_outputs=model(*method_input),\n",
    "            )\n",
    "        )\n",
    "        \n",
    "    method_test_suites.append(\n",
    "        MethodTestSuite(\n",
    "            method_name=m_name,\n",
    "            test_cases=method_test_cases,\n",
    "        )\n",
    "    )\n"
   ]
  },
  {
   "cell_type": "code",
   "execution_count": 6,
   "metadata": {},
   "outputs": [
    {
     "name": "stdout",
     "output_type": "stream",
     "text": [
      "Creating bundled program...\n"
     ]
    }
   ],
   "source": [
    "print(\"Creating bundled program...\")   \n",
    "bundled_program = BundledProgram(executorch_program, method_test_suites)\n",
    "bundled_program_buffer = serialize_from_bundled_program_to_flatbuffer(\n",
    "    bundled_program\n",
    ")\n",
    "# with open(f\"../cpp/cnn_ops/models/{model.name}/bundled.bpte\", \"wb\") as file:\n",
    "#     file.write(bundled_program_buffer)"
   ]
  }
 ],
 "metadata": {
  "kernelspec": {
   "display_name": "executorch-main",
   "language": "python",
   "name": "python3"
  },
  "language_info": {
   "codemirror_mode": {
    "name": "ipython",
    "version": 3
   },
   "file_extension": ".py",
   "mimetype": "text/x-python",
   "name": "python",
   "nbconvert_exporter": "python",
   "pygments_lexer": "ipython3",
   "version": "3.10.0"
  }
 },
 "nbformat": 4,
 "nbformat_minor": 2
}
