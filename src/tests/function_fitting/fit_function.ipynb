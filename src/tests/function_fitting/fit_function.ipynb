{
 "cells": [
  {
   "cell_type": "code",
   "execution_count": 1,
   "metadata": {},
   "outputs": [],
   "source": [
    "import sys\n",
    "sys.path.append('../..')\n",
    "from matplotlib import pyplot as plt\n",
    "import numpy as np\n",
    "import torch\n",
    "import yaml\n",
    "from omegaconf import OmegaConf\n",
    "import math\n",
    "import core.nn as nn\n",
    "\n",
    "# Load the configuration\n",
    "file_path = \"config.yaml\"\n",
    "with open(file_path, 'r') as file:\n",
    "    config = OmegaConf.create(yaml.safe_load(file))\n",
    "\n",
    "# Set the seed\n",
    "torch.manual_seed(config.seed)\n",
    "np.random.seed(config.seed)"
   ]
  },
  {
   "cell_type": "code",
   "execution_count": 2,
   "metadata": {},
   "outputs": [
    {
     "data": {
      "image/png": "[encoded data removed]",
      "text/plain": [
       "<Figure size 640x480 with 1 Axes>"
      ]
     },
     "metadata": {},
     "output_type": "display_data"
    }
   ],
   "source": [
    "def example_function(config):\n",
    "    x = np.linspace(config.min, config.max, config.samples)\n",
    "    function = {\n",
    "        \"Gaussian\": _gaussian,\n",
    "        \"Constant\": _constant,\n",
    "    }[config.function]\n",
    "    return function(config, x)\n",
    "\n",
    "def _gaussian(config, x):\n",
    "    mean = config.gauss_mean\n",
    "    sigma = config.gauss_sigma\n",
    "    # apply function\n",
    "    f = (\n",
    "        1\n",
    "        / (sigma * math.sqrt(2.0 * math.pi))\n",
    "        * np.exp(-1 / 2.0 * ((x - mean) / sigma) ** 2)\n",
    "    )\n",
    "    f = 1 / float(max(f)) * f\n",
    "    # return\n",
    "    return f\n",
    "\n",
    "\n",
    "def _constant(config, x):\n",
    "    # apply function\n",
    "    f = np.ones_like(x)\n",
    "    f[int(len(f) / 2) :] = -1.0\n",
    "    # return\n",
    "    return f\n",
    "\n",
    "function = example_function(config)\n",
    "plt.plot(function)\n",
    "plt.title(\"Ground Truth\")\n",
    "plt.show()"
   ]
  },
  {
   "cell_type": "code",
   "execution_count": 3,
   "metadata": {},
   "outputs": [],
   "source": [
    "model = nn.KernelNet(\n",
    "    out_channels=1,\n",
    "    hidden_channels=config.hidden_channels,\n",
    "    bias=True,\n",
    "    omega_0=config.omega_0\n",
    ")"
   ]
  },
  {
   "cell_type": "code",
   "execution_count": 4,
   "metadata": {},
   "outputs": [],
   "source": [
    "in_channels = 1\n",
    "out_channels = 10\n",
    "hidden_channels = 32\n",
    "bias = True\n",
    "omega_0 = 30.0\n",
    "\n",
    "ckconv = nn.CKConv(in_channels, out_channels, hidden_channels, bias, omega_0)"
   ]
  },
  {
   "cell_type": "code",
   "execution_count": 5,
   "metadata": {},
   "outputs": [
    {
     "name": "stdout",
     "output_type": "stream",
     "text": [
      "tensor([[[-1.0000, -0.9798, -0.9596, -0.9394, -0.9192, -0.8990, -0.8788,\n",
      "          -0.8586, -0.8384, -0.8182, -0.7980, -0.7778, -0.7576, -0.7374,\n",
      "          -0.7172, -0.6970, -0.6768, -0.6566, -0.6364, -0.6162, -0.5960,\n",
      "          -0.5758, -0.5556, -0.5354, -0.5152, -0.4949, -0.4747, -0.4545,\n",
      "          -0.4343, -0.4141, -0.3939, -0.3737, -0.3535, -0.3333, -0.3131,\n",
      "          -0.2929, -0.2727, -0.2525, -0.2323, -0.2121, -0.1919, -0.1717,\n",
      "          -0.1515, -0.1313, -0.1111, -0.0909, -0.0707, -0.0505, -0.0303,\n",
      "          -0.0101,  0.0101,  0.0303,  0.0505,  0.0707,  0.0909,  0.1111,\n",
      "           0.1313,  0.1515,  0.1717,  0.1919,  0.2121,  0.2323,  0.2525,\n",
      "           0.2727,  0.2929,  0.3131,  0.3333,  0.3535,  0.3737,  0.3939,\n",
      "           0.4141,  0.4343,  0.4545,  0.4747,  0.4949,  0.5152,  0.5354,\n",
      "           0.5556,  0.5758,  0.5960,  0.6162,  0.6364,  0.6566,  0.6768,\n",
      "           0.6970,  0.7172,  0.7374,  0.7576,  0.7778,  0.7980,  0.8182,\n",
      "           0.8384,  0.8586,  0.8788,  0.8990,  0.9192,  0.9394,  0.9596,\n",
      "           0.9798,  1.0000]]])\n"
     ]
    },
    {
     "ename": "NameError",
     "evalue": "name 'exit' is not defined",
     "output_type": "error",
     "traceback": [
      "\u001b[0;31m---------------------------------------------------------------------------\u001b[0m",
      "\u001b[0;31mNameError\u001b[0m                                 Traceback (most recent call last)",
      "Cell \u001b[0;32mIn[5], line 13\u001b[0m\n\u001b[1;32m     10\u001b[0m batch_size \u001b[38;5;241m=\u001b[39m \u001b[38;5;241m1\u001b[39m\n\u001b[1;32m     12\u001b[0m \u001b[38;5;28minput\u001b[39m \u001b[38;5;241m=\u001b[39m torch\u001b[38;5;241m.\u001b[39mrand([batch_size, input_channels, length])\n\u001b[0;32m---> 13\u001b[0m output \u001b[38;5;241m=\u001b[39m \u001b[43mckconv\u001b[49m\u001b[43m(\u001b[49m\u001b[38;5;28;43minput\u001b[39;49m\u001b[43m)\u001b[49m\n\u001b[1;32m     14\u001b[0m \u001b[38;5;28mprint\u001b[39m(output\u001b[38;5;241m.\u001b[39mshape)\n\u001b[1;32m     16\u001b[0m \u001b[38;5;28mprint\u001b[39m(\u001b[38;5;124m'\u001b[39m\u001b[38;5;124mThe size of the Convolutional Kernel is: \u001b[39m\u001b[38;5;132;01m{}\u001b[39;00m\u001b[38;5;124m'\u001b[39m\u001b[38;5;241m.\u001b[39mformat(ckconv\u001b[38;5;241m.\u001b[39mconv_kernel\u001b[38;5;241m.\u001b[39mshape))\n",
      "File \u001b[0;32m~/.miniconda3/envs/whistle/lib/python3.12/site-packages/torch/nn/modules/module.py:1532\u001b[0m, in \u001b[0;36mModule._wrapped_call_impl\u001b[0;34m(self, *args, **kwargs)\u001b[0m\n\u001b[1;32m   1530\u001b[0m     \u001b[38;5;28;01mreturn\u001b[39;00m \u001b[38;5;28mself\u001b[39m\u001b[38;5;241m.\u001b[39m_compiled_call_impl(\u001b[38;5;241m*\u001b[39margs, \u001b[38;5;241m*\u001b[39m\u001b[38;5;241m*\u001b[39mkwargs)  \u001b[38;5;66;03m# type: ignore[misc]\u001b[39;00m\n\u001b[1;32m   1531\u001b[0m \u001b[38;5;28;01melse\u001b[39;00m:\n\u001b[0;32m-> 1532\u001b[0m     \u001b[38;5;28;01mreturn\u001b[39;00m \u001b[38;5;28;43mself\u001b[39;49m\u001b[38;5;241;43m.\u001b[39;49m\u001b[43m_call_impl\u001b[49m\u001b[43m(\u001b[49m\u001b[38;5;241;43m*\u001b[39;49m\u001b[43margs\u001b[49m\u001b[43m,\u001b[49m\u001b[43m \u001b[49m\u001b[38;5;241;43m*\u001b[39;49m\u001b[38;5;241;43m*\u001b[39;49m\u001b[43mkwargs\u001b[49m\u001b[43m)\u001b[49m\n",
      "File \u001b[0;32m~/.miniconda3/envs/whistle/lib/python3.12/site-packages/torch/nn/modules/module.py:1541\u001b[0m, in \u001b[0;36mModule._call_impl\u001b[0;34m(self, *args, **kwargs)\u001b[0m\n\u001b[1;32m   1536\u001b[0m \u001b[38;5;66;03m# If we don't have any hooks, we want to skip the rest of the logic in\u001b[39;00m\n\u001b[1;32m   1537\u001b[0m \u001b[38;5;66;03m# this function, and just call forward.\u001b[39;00m\n\u001b[1;32m   1538\u001b[0m \u001b[38;5;28;01mif\u001b[39;00m \u001b[38;5;129;01mnot\u001b[39;00m (\u001b[38;5;28mself\u001b[39m\u001b[38;5;241m.\u001b[39m_backward_hooks \u001b[38;5;129;01mor\u001b[39;00m \u001b[38;5;28mself\u001b[39m\u001b[38;5;241m.\u001b[39m_backward_pre_hooks \u001b[38;5;129;01mor\u001b[39;00m \u001b[38;5;28mself\u001b[39m\u001b[38;5;241m.\u001b[39m_forward_hooks \u001b[38;5;129;01mor\u001b[39;00m \u001b[38;5;28mself\u001b[39m\u001b[38;5;241m.\u001b[39m_forward_pre_hooks\n\u001b[1;32m   1539\u001b[0m         \u001b[38;5;129;01mor\u001b[39;00m _global_backward_pre_hooks \u001b[38;5;129;01mor\u001b[39;00m _global_backward_hooks\n\u001b[1;32m   1540\u001b[0m         \u001b[38;5;129;01mor\u001b[39;00m _global_forward_hooks \u001b[38;5;129;01mor\u001b[39;00m _global_forward_pre_hooks):\n\u001b[0;32m-> 1541\u001b[0m     \u001b[38;5;28;01mreturn\u001b[39;00m \u001b[43mforward_call\u001b[49m\u001b[43m(\u001b[49m\u001b[38;5;241;43m*\u001b[39;49m\u001b[43margs\u001b[49m\u001b[43m,\u001b[49m\u001b[43m \u001b[49m\u001b[38;5;241;43m*\u001b[39;49m\u001b[38;5;241;43m*\u001b[39;49m\u001b[43mkwargs\u001b[49m\u001b[43m)\u001b[49m\n\u001b[1;32m   1543\u001b[0m \u001b[38;5;28;01mtry\u001b[39;00m:\n\u001b[1;32m   1544\u001b[0m     result \u001b[38;5;241m=\u001b[39m \u001b[38;5;28;01mNone\u001b[39;00m\n",
      "File \u001b[0;32m~/code/whistle/whistlenet/src/tests/function_fitting/../../core/nn/ckconv.py:52\u001b[0m, in \u001b[0;36mCKConv.forward\u001b[0;34m(self, x)\u001b[0m\n\u001b[1;32m     49\u001b[0m rel_pos \u001b[38;5;241m=\u001b[39m \u001b[38;5;28mself\u001b[39m\u001b[38;5;241m.\u001b[39mhandle_rel_positions(x)\n\u001b[1;32m     51\u001b[0m \u001b[38;5;28mprint\u001b[39m(rel_pos)\n\u001b[0;32m---> 52\u001b[0m \u001b[43mexit\u001b[49m()\n\u001b[1;32m     54\u001b[0m \u001b[38;5;66;03m# Pass relative positions through self.Kernel (Step 2)\u001b[39;00m\n\u001b[1;32m     55\u001b[0m conv_kernel \u001b[38;5;241m=\u001b[39m \u001b[38;5;28mself\u001b[39m\u001b[38;5;241m.\u001b[39mKernel(rel_pos)\u001b[38;5;241m.\u001b[39mview(\u001b[38;5;241m-\u001b[39m\u001b[38;5;241m1\u001b[39m, x_shape[\u001b[38;5;241m1\u001b[39m], \u001b[38;5;241m*\u001b[39mx_shape[\u001b[38;5;241m2\u001b[39m:])\n",
      "\u001b[0;31mNameError\u001b[0m: name 'exit' is not defined"
     ]
    }
   ],
   "source": [
    "# ------------------------------\n",
    "# Parameter counter\n",
    "def num_params(model):\n",
    "    return sum(p.numel() for p in model.parameters() if p.requires_grad)\n",
    "# -----------------------------\n",
    "\n",
    "# Input:\n",
    "length = 100\n",
    "input_channels = 1\n",
    "batch_size = 1\n",
    "\n",
    "input = torch.rand([batch_size, input_channels, length])\n",
    "output = ckconv(input)\n",
    "print(output.shape)\n",
    "\n",
    "print('The size of the Convolutional Kernel is: {}'.format(ckconv.conv_kernel.shape))\n",
    "print('The number of parameters of the conv. layer is: {}'.format(num_params(ckconv)))\n",
    "fig, axs = plt.subplots(1, 2,figsize=(15,5))\n",
    "for i in range(2):\n",
    "    axs[i].set_title('Channel {}'.format(i))\n",
    "    axs[i].plot(ckconv.conv_kernel.view(out_channels, length)[i].detach().numpy())\n",
    "plt.show()"
   ]
  },
  {
   "cell_type": "code",
   "execution_count": null,
   "metadata": {},
   "outputs": [],
   "source": [
    "# input to the model\n",
    "x = ( torch\n",
    "     .linspace(config.min, config.max, config.samples)\n",
    "     .type(torch.FloatTensor)\n",
    "     .unsqueeze(0)\n",
    "     .unsqueeze(0)\n",
    ")\n",
    "\n",
    "# actual output of the target function\n",
    "f = ( torch\n",
    "     .from_numpy(function)\n",
    "     .type(torch.FloatTensor)\n",
    "     .unsqueeze(0)\n",
    "     .unsqueeze(0) \n",
    ")"
   ]
  }
 ],
 "metadata": {
  "kernelspec": {
   "display_name": "whistle",
   "language": "python",
   "name": "python3"
  },
  "language_info": {
   "codemirror_mode": {
    "name": "ipython",
    "version": 3
   },
   "file_extension": ".py",
   "mimetype": "text/x-python",
   "name": "python",
   "nbconvert_exporter": "python",
   "pygments_lexer": "ipython3",
   "version": "3.12.3"
  }
 },
 "nbformat": 4,
 "nbformat_minor": 2
}
