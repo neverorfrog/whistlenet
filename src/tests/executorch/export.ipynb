{
 "cells": [
  {
   "cell_type": "code",
   "execution_count": 1,
   "metadata": {},
   "outputs": [],
   "source": [
    "import sys\n",
    "sys.path.append('../..')\n",
    "from datamodules.mnist import MnistDataset\n",
    "from core.trainer import Trainer\n",
    "from models import CNN\n",
    "from models import MNIST_CONFIG as config\n",
    "import torch # type: ignore\n",
    "import numpy as np # type: ignore\n",
    "from matplotlib import pyplot as plt # type: ignore\n",
    "from core import project_root\n",
    "projroot = project_root()\n",
    "import warnings\n",
    "warnings.filterwarnings(\"ignore\")"
   ]
  },
  {
   "cell_type": "code",
   "execution_count": 2,
   "metadata": {},
   "outputs": [
    {
     "name": "stdout",
     "output_type": "stream",
     "text": [
      "DATA SAVED!\n",
      "N Examples: 54000\n",
      "N Classes: 10\n",
      "Classes: [0 1 2 3 4 5 6 7 8 9]\n",
      " - Class 0: 5341 (9.89074074074074)\n",
      " - Class 1: 6098 (11.292592592592593)\n",
      " - Class 2: 5369 (9.942592592592593)\n",
      " - Class 3: 5521 (10.224074074074075)\n",
      " - Class 4: 5277 (9.772222222222222)\n",
      " - Class 5: 4866 (9.011111111111111)\n",
      " - Class 6: 5304 (9.822222222222223)\n",
      " - Class 7: 5607 (10.383333333333333)\n",
      " - Class 8: 5286 (9.788888888888888)\n",
      " - Class 9: 5331 (9.872222222222222)\n",
      "MODEL LOADED!\n"
     ]
    },
    {
     "data": {
      "text/plain": [
       "[<matplotlib.lines.Line2D at 0x7906091be9d0>]"
      ]
     },
     "execution_count": 2,
     "metadata": {},
     "output_type": "execute_result"
    },
    {
     "data": {
      "image/png": "[encoded data removed]",
      "text/plain": [
       "<Figure size 640x480 with 1 Axes>"
      ]
     },
     "metadata": {},
     "output_type": "display_data"
    }
   ],
   "source": [
    "dataset = MnistDataset(tobeloaded=False, params=config.DATA_PARAMS)\n",
    "dataset.summarize()\n",
    "model = CNN(\"mnist\", num_classes=10)\n",
    "trainer = Trainer(params=config.TRAIN_PARAMS)\n",
    "model.load(\"mnist\")\n",
    "# trainer.fit(model,dataset)\n",
    "plt.plot(model.test_scores, label=f'mnist - test scores')"
   ]
  },
  {
   "cell_type": "markdown",
   "metadata": {},
   "source": [
    "# Install\n",
    "\n",
    "### [Getting Started](https://pytorch.org/executorch/stable/getting-started-setup.html)\n",
    "### [Building with CMake](https://pytorch.org/executorch/stable/runtime-build-and-cross-compilation.html)\n",
    "\n",
    "# Toy Example \n",
    "### [PyTorch Source](https://pytorch.org/executorch/stable/tutorials/export-to-executorch-tutorial.html)\n",
    "### [Explanation of the three phases](https://pytorch.org/executorch/stable/ir-exir.html)\n",
    "\n",
    "![picture 1](images/workflow.png)"
   ]
  },
  {
   "cell_type": "code",
   "execution_count": 3,
   "metadata": {},
   "outputs": [
    {
     "name": "stdout",
     "output_type": "stream",
     "text": [
      "MODEL LOADED!\n"
     ]
    },
    {
     "data": {
      "text/plain": [
       "tensor([[0.0020, 0.1363, 0.0000, 0.0000, 0.0897, 0.0000, 0.0000, 0.0000, 0.0174,\n",
       "         0.0380]], grad_fn=<ReluBackward0>)"
      ]
     },
     "execution_count": 3,
     "metadata": {},
     "output_type": "execute_result"
    }
   ],
   "source": [
    "import torch.nn as nn # type: ignore\n",
    "\n",
    "class FullyConnected(torch.nn.Module):\n",
    "    #Fully Connected layers    \n",
    "    def __init__(self):\n",
    "        super().__init__()\n",
    "        fc_dims = [4,1]\n",
    "        self.activation = nn.ReLU()\n",
    "        self.example_args = (torch.randn(1, 4),)\n",
    "        fc_layers = []\n",
    "        for i in range(len(fc_dims)-1):\n",
    "            fc_layers.append(nn.Linear(fc_dims[i],fc_dims[i+1],bias=True))\n",
    "            fc_layers.append(self.activation)\n",
    "        self.fc = nn.Sequential(*fc_layers)\n",
    "\n",
    "    def forward(self, x):\n",
    "        return self.fc(x)\n",
    "    \n",
    "class Add(torch.nn.Module):\n",
    "    def __init__(self):\n",
    "        super().__init__()\n",
    "        self.example_args = (torch.randn(1, 4), torch.randn(1, 4))\n",
    "        \n",
    "    def forward(self,x,y):\n",
    "        return x + y\n",
    "    \n",
    "# m = FullyConnected()\n",
    "m = CNN(\"mnist\",num_classes=10)\n",
    "m.load(\"mnist\")\n",
    "m.eval()\n",
    "torch.no_grad()\n",
    "m(*m.example_args)"
   ]
  },
  {
   "cell_type": "markdown",
   "metadata": {},
   "source": [
    "1) Core ATen Dialect\n",
    "- [export()](https://pytorch.org/docs/2.1/export.html#torch.export.export) takes an arbitrary Python callable (an nn.Module, a function or a method) and produces a traced graph representing only the Tensor computation of the function in an Ahead-of-Time (AOT) fashion, which can subsequently be executed with different outputs or serialized. \n",
    "- The traced graph does three things \n",
    "    1) produces a normalized operator set consisting only of functional [Core ATen Operator Set](https://pytorch.org/docs/2.1/torch.compiler_ir.html) and user specified custom operators\n",
    "    2) has eliminated all Python control flow and data structures (except for certain conditions)\n",
    "    3) has the set of shape constraints needed to show that this normalization and control flow elimination is sound for a future input.\n",
    "- We will print the graph, represented through [Torch Fx](https://pytorch.org/docs/stable/fx.html#module-torch.fx), in a table to explicitly represent inputs, operations and outputs (more info [here](https://pytorch.org/docs/stable/fx.html#torch.fx.Node))\n",
    "- Internally, what happens is that we first convert to Pre-Autograd ATen Dialect\n",
    "    - Trace a module before any pre-autograd decomposition is run.\n",
    "    - Tracing means converting a PyTorch model into a more efficient, serialized format suitable for deployment in production or environments where Python might not be available.\n",
    "        ```\n",
    "        from torch._export import capture_pre_autograd_graph\n",
    "        pre_autograd_aten_dialect = capture_pre_autograd_graph(m, m.example_args)\n",
    "        ```\n",
    "- Somewhere (it is not clear if before or after the aten dialect) we quantize\n",
    "    - Lower the precision, maintaining the accuracy high enough\n",
    "    - Goal is to enhance memory and computational efficiency\n",
    "        ```\n",
    "        from torch.ao.quantization.quantize_pt2e import convert_pt2e, prepare_pt2e\n",
    "        from torch.ao.quantization.quantizer.xnnpack_quantizer import (\n",
    "            get_symmetric_quantization_config,\n",
    "            XNNPACKQuantizer,\n",
    "        )\n",
    "\n",
    "        quantizer = XNNPACKQuantizer().set_global(get_symmetric_quantization_config())\n",
    "        prepared_graph = prepare_pt2e(pre_autograd_aten_dialect, quantizer)\n",
    "        converted_graph = convert_pt2e(prepared_graph)\n",
    "        ```"
   ]
  },
  {
   "cell_type": "code",
   "execution_count": 4,
   "metadata": {},
   "outputs": [
    {
     "name": "stdout",
     "output_type": "stream",
     "text": [
      "opcode         name                       target                                args                                                                 kwargs\n",
      "-------------  -------------------------  ------------------------------------  -------------------------------------------------------------------  --------\n",
      "placeholder    arg0_1                     arg0_1                                ()                                                                   {}\n",
      "placeholder    arg1_1                     arg1_1                                ()                                                                   {}\n",
      "placeholder    arg2_1                     arg2_1                                ()                                                                   {}\n",
      "placeholder    arg3_1                     arg3_1                                ()                                                                   {}\n",
      "placeholder    arg4_1                     arg4_1                                ()                                                                   {}\n",
      "placeholder    arg5_1                     arg5_1                                ()                                                                   {}\n",
      "placeholder    arg6_1                     arg6_1                                ()                                                                   {}\n",
      "call_function  convolution                aten.convolution.default              (arg6_1, arg0_1, arg1_1, [1, 1], [0, 0], [1, 1], False, [0, 0], 1)   {}\n",
      "call_function  relu                       aten.relu.default                     (convolution,)                                                       {}\n",
      "call_function  max_pool2d_with_indices    aten.max_pool2d_with_indices.default  (relu, [2, 2], [2, 2])                                               {}\n",
      "call_function  getitem                    <built-in function getitem>           (max_pool2d_with_indices, 0)                                         {}\n",
      "call_function  convolution_1              aten.convolution.default              (getitem, arg2_1, arg3_1, [1, 1], [0, 0], [1, 1], False, [0, 0], 1)  {}\n",
      "call_function  relu_1                     aten.relu.default                     (convolution_1,)                                                     {}\n",
      "call_function  max_pool2d_with_indices_1  aten.max_pool2d_with_indices.default  (relu_1, [2, 2], [2, 2])                                             {}\n",
      "call_function  getitem_2                  <built-in function getitem>           (max_pool2d_with_indices_1, 0)                                       {}\n",
      "call_function  view                       aten.view.default                     (getitem_2, [1, 320])                                                {}\n",
      "call_function  t                          aten.t.default                        (arg4_1,)                                                            {}\n",
      "call_function  addmm                      aten.addmm.default                    (arg5_1, view, t)                                                    {}\n",
      "call_function  relu_2                     aten.relu.default                     (addmm,)                                                             {}\n",
      "output         output                     output                                ((relu_2,),)                                                         {}\n"
     ]
    }
   ],
   "source": [
    "from torch.export import export, ExportedProgram # type: ignore\n",
    "aten_dialect: ExportedProgram = export(m, m.example_args)\n",
    "aten_dialect.graph.print_tabular()"
   ]
  },
  {
   "cell_type": "markdown",
   "metadata": {},
   "source": [
    "2) Edge Dialect\n",
    "- to_edge() returns an EdgeProgramManager object, which contains the exported programs which will be placed on this device\n",
    "    - DType specialization (to reduce binary size)\n",
    "    - Scalar to tensor conversion\n",
    "    - Converting all ops to the executorch.exir.dialects.edge namespace"
   ]
  },
  {
   "cell_type": "code",
   "execution_count": 5,
   "metadata": {},
   "outputs": [],
   "source": [
    "from executorch.exir import EdgeProgramManager, to_edge # type: ignore\n",
    "edge_program: EdgeProgramManager = to_edge(aten_dialect)\n",
    "# to_be_lowered_module = edge_program.exported_program()\n",
    "# to_be_lowered_module.graph.print_tabular()"
   ]
  },
  {
   "cell_type": "markdown",
   "metadata": {},
   "source": [
    "3. Delegate to a Backend (optional)"
   ]
  },
  {
   "cell_type": "code",
   "execution_count": 6,
   "metadata": {},
   "outputs": [],
   "source": [
    "from executorch.exir.backend.backend_api import LoweredBackendModule, to_backend # type: ignore\n",
    "from executorch.exir.backend.test.backend_with_compiler_demo import (  # noqa # type: ignore\n",
    "    BackendWithCompilerDemo,\n",
    ")"
   ]
  },
  {
   "cell_type": "markdown",
   "metadata": {},
   "source": [
    "4. Executorch Program"
   ]
  },
  {
   "cell_type": "code",
   "execution_count": 7,
   "metadata": {},
   "outputs": [
    {
     "name": "stdout",
     "output_type": "stream",
     "text": [
      "ExecuTorch Dialect\n",
      "opcode         name                                    target                              args                                                                 kwargs\n",
      "-------------  --------------------------------------  ----------------------------------  -------------------------------------------------------------------  ------------------------------------\n",
      "placeholder    arg0_1                                  arg0_1                              ()                                                                   {}\n",
      "placeholder    arg1_1                                  arg1_1                              ()                                                                   {}\n",
      "placeholder    arg2_1                                  arg2_1                              ()                                                                   {}\n",
      "placeholder    arg3_1                                  arg3_1                              ()                                                                   {}\n",
      "placeholder    arg4_1                                  arg4_1                              ()                                                                   {}\n",
      "placeholder    arg5_1                                  arg5_1                              ()                                                                   {}\n",
      "placeholder    arg6_1                                  arg6_1                              ()                                                                   {}\n",
      "call_function  alloc                                   <function alloc at 0x79068c8b4b80>  (((1, 10, 24, 24), torch.float32),)                                  {}\n",
      "call_function  aten_convolution_default                aten.convolution.out                (arg6_1, arg0_1, arg1_1, [1, 1], [0, 0], [1, 1], False, [0, 0], 1)   {'out': alloc}\n",
      "call_function  alloc_1                                 <function alloc at 0x79068c8b4b80>  (((1, 10, 24, 24), torch.float32),)                                  {}\n",
      "call_function  aten_relu_default                       aten.relu.out                       (aten_convolution_default,)                                          {'out': alloc_1}\n",
      "call_function  alloc_2                                 <function alloc at 0x79068c8b4b80>  (((1, 10, 12, 12), torch.float32),)                                  {}\n",
      "call_function  alloc_3                                 <function alloc at 0x79068c8b4b80>  (((1, 10, 12, 12), torch.int64),)                                    {}\n",
      "call_function  aten_max_pool2d_with_indices_default    aten.max_pool2d_with_indices.out    (aten_relu_default, [2, 2], [2, 2])                                  {'out': alloc_2, 'indices': alloc_3}\n",
      "call_function  getitem                                 <built-in function getitem>         (aten_max_pool2d_with_indices_default, 0)                            {}\n",
      "call_function  alloc_4                                 <function alloc at 0x79068c8b4b80>  (((1, 20, 8, 8), torch.float32),)                                    {}\n",
      "call_function  aten_convolution_default_1              aten.convolution.out                (getitem, arg2_1, arg3_1, [1, 1], [0, 0], [1, 1], False, [0, 0], 1)  {'out': alloc_4}\n",
      "call_function  alloc_5                                 <function alloc at 0x79068c8b4b80>  (((1, 20, 8, 8), torch.float32),)                                    {}\n",
      "call_function  aten_relu_default_1                     aten.relu.out                       (aten_convolution_default_1,)                                        {'out': alloc_5}\n",
      "call_function  alloc_6                                 <function alloc at 0x79068c8b4b80>  (((1, 20, 4, 4), torch.float32),)                                    {}\n",
      "call_function  alloc_7                                 <function alloc at 0x79068c8b4b80>  (((1, 20, 4, 4), torch.int64),)                                      {}\n",
      "call_function  aten_max_pool2d_with_indices_default_1  aten.max_pool2d_with_indices.out    (aten_relu_default_1, [2, 2], [2, 2])                                {'out': alloc_6, 'indices': alloc_7}\n",
      "call_function  getitem_1                               <built-in function getitem>         (aten_max_pool2d_with_indices_default_1, 0)                          {}\n",
      "call_function  alloc_8                                 <function alloc at 0x79068c8b4b80>  (((1, 320), torch.float32),)                                         {}\n",
      "call_function  aten_view_copy_default                  aten.view_copy.out                  (getitem_1, [1, 320])                                                {'out': alloc_8}\n",
      "call_function  alloc_9                                 <function alloc at 0x79068c8b4b80>  (((320, 10), torch.float32),)                                        {}\n",
      "call_function  aten_permute_copy_default               aten.permute_copy.out               (arg4_1, [1, 0])                                                     {'out': alloc_9}\n",
      "call_function  alloc_10                                <function alloc at 0x79068c8b4b80>  (((1, 10), torch.float32),)                                          {}\n",
      "call_function  aten_addmm_default                      aten.addmm.out                      (arg5_1, aten_view_copy_default, aten_permute_copy_default)          {'out': alloc_10}\n",
      "call_function  alloc_11                                <function alloc at 0x79068c8b4b80>  (((1, 10), torch.float32),)                                          {}\n",
      "call_function  aten_relu_default_2                     aten.relu.out                       (aten_addmm_default,)                                                {'out': alloc_11}\n",
      "output         output_1                                output                              ((aten_relu_default_2,),)                                            {}\n",
      "None\n"
     ]
    }
   ],
   "source": [
    "from executorch.exir import ExecutorchBackendConfig, ExecutorchProgramManager # type: ignore\n",
    "\n",
    "executorch_program: ExecutorchProgramManager = edge_program.to_executorch(\n",
    "        ExecutorchBackendConfig(\n",
    "                # passes=[],  # User-defined passes\n",
    "        )\n",
    ")\n",
    "\n",
    "print(\"ExecuTorch Dialect\")\n",
    "print(executorch_program.exported_program().graph.print_tabular())\n",
    "\n",
    "with open(f\"model.pte\", \"wb\") as file:\n",
    "    file.write(executorch_program.buffer)"
   ]
  }
 ],
 "metadata": {
  "kernelspec": {
   "display_name": "machine-learning",
   "language": "python",
   "name": "python3"
  },
  "language_info": {
   "codemirror_mode": {
    "name": "ipython",
    "version": 3
   },
   "file_extension": ".py",
   "mimetype": "text/x-python",
   "name": "python",
   "nbconvert_exporter": "python",
   "pygments_lexer": "ipython3",
   "version": "3.12.0"
  }
 },
 "nbformat": 4,
 "nbformat_minor": 2
}
