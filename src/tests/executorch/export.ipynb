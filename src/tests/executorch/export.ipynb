{
 "cells": [
  {
   "cell_type": "code",
   "execution_count": 10,
   "metadata": {},
   "outputs": [],
   "source": [
    "import sys\n",
    "sys.path.append('../..')\n",
    "from datamodules.mnist import MnistDataset\n",
    "from core.trainer import Trainer\n",
    "from models import CNN\n",
    "from models import MNIST_CONFIG as config\n",
    "import torch # type: ignore\n",
    "import numpy as np # type: ignore\n",
    "from matplotlib import pyplot as plt # type: ignore\n",
    "from core import project_root\n",
    "projroot = project_root()"
   ]
  },
  {
   "cell_type": "code",
   "execution_count": 11,
   "metadata": {},
   "outputs": [
    {
     "name": "stdout",
     "output_type": "stream",
     "text": [
      "DATA SAVED!\n",
      "N Examples: 54000\n",
      "N Classes: 10\n",
      "Classes: [0 1 2 3 4 5 6 7 8 9]\n",
      " - Class 0: 5303 (9.820370370370371)\n",
      " - Class 1: 6070 (11.240740740740742)\n",
      " - Class 2: 5394 (9.988888888888889)\n",
      " - Class 3: 5501 (10.187037037037037)\n",
      " - Class 4: 5284 (9.785185185185185)\n",
      " - Class 5: 4880 (9.037037037037036)\n",
      " - Class 6: 5335 (9.87962962962963)\n",
      " - Class 7: 5594 (10.35925925925926)\n",
      " - Class 8: 5257 (9.735185185185186)\n",
      " - Class 9: 5382 (9.966666666666667)\n",
      "MODEL LOADED!\n"
     ]
    },
    {
     "data": {
      "text/plain": [
       "[<matplotlib.lines.Line2D at 0x7b0fad289090>]"
      ]
     },
     "execution_count": 11,
     "metadata": {},
     "output_type": "execute_result"
    },
    {
     "data": {
      "image/png": "[encoded data removed]",
      "text/plain": [
       "<Figure size 640x480 with 1 Axes>"
      ]
     },
     "metadata": {},
     "output_type": "display_data"
    }
   ],
   "source": [
    "dataset = MnistDataset(tobeloaded=False, params=config.DATA_PARAMS)\n",
    "dataset.summarize()\n",
    "model = CNN(\"mnist\", num_classes=10)\n",
    "trainer = Trainer(params=config.TRAIN_PARAMS)\n",
    "model.load(\"mnist\")\n",
    "# trainer.fit(model,dataset)\n",
    "plt.plot(model.test_scores, label=f'mnist - test scores')"
   ]
  },
  {
   "cell_type": "markdown",
   "metadata": {},
   "source": [
    "# Install\n",
    "\n",
    "### [Getting Started](https://pytorch.org/executorch/stable/getting-started-setup.html)\n",
    "### [Building with CMake](https://pytorch.org/executorch/stable/runtime-build-and-cross-compilation.html)\n",
    "\n",
    "# Toy Example \n",
    "### [PyTorch Source](https://pytorch.org/executorch/stable/tutorials/export-to-executorch-tutorial.html)\n",
    "### [Explanation of the three phases](https://pytorch.org/executorch/stable/ir-exir.html)\n",
    "\n",
    "![picture 1](images/workflow.png)"
   ]
  },
  {
   "cell_type": "code",
   "execution_count": 12,
   "metadata": {},
   "outputs": [
    {
     "data": {
      "text/plain": [
       "tensor([[1.0258]], grad_fn=<ReluBackward0>)"
      ]
     },
     "execution_count": 12,
     "metadata": {},
     "output_type": "execute_result"
    }
   ],
   "source": [
    "import torch.nn as nn # type: ignore\n",
    "\n",
    "class FullyConnected(torch.nn.Module):\n",
    "    #Fully Connected layers    \n",
    "    def __init__(self):\n",
    "        super().__init__()\n",
    "        fc_dims = [4,1]\n",
    "        self.activation = nn.ReLU()\n",
    "        self.example_args = (torch.randn(1, 4),)\n",
    "        fc_layers = []\n",
    "        for i in range(len(fc_dims)-1):\n",
    "            fc_layers.append(nn.Linear(fc_dims[i],fc_dims[i+1],bias=True))\n",
    "            fc_layers.append(self.activation)\n",
    "        self.fc = nn.Sequential(*fc_layers)\n",
    "\n",
    "    def forward(self, x):\n",
    "        return self.fc(x)\n",
    "    \n",
    "class Add(torch.nn.Module):\n",
    "    def __init__(self):\n",
    "        super().__init__()\n",
    "        self.example_args = (torch.randn(1, 4), torch.randn(1, 4))\n",
    "        \n",
    "    def forward(self,x,y):\n",
    "        return x + y\n",
    "    \n",
    "m = FullyConnected()\n",
    "# m = CNN(\"mnist\",num_classes=10)\n",
    "m(*m.example_args)\n",
    "# m.load(\"mnist\")"
   ]
  },
  {
   "cell_type": "markdown",
   "metadata": {},
   "source": [
    "1) Core ATen Dialect\n",
    "- [export()](https://pytorch.org/docs/2.1/export.html#torch.export.export) takes an arbitrary Python callable (an nn.Module, a function or a method) and produces a traced graph representing only the Tensor computation of the function in an Ahead-of-Time (AOT) fashion, which can subsequently be executed with different outputs or serialized. \n",
    "- The traced graph does three things \n",
    "    1) produces a normalized operator set consisting only of functional [Core ATen Operator Set](https://pytorch.org/docs/2.1/torch.compiler_ir.html) and user specified custom operators\n",
    "    2) has eliminated all Python control flow and data structures (except for certain conditions)\n",
    "    3) has the set of shape constraints needed to show that this normalization and control flow elimination is sound for a future input.\n",
    "- We will print the graph, represented through [Torch Fx](https://pytorch.org/docs/stable/fx.html#module-torch.fx), in a table to explicitly represent inputs, operations and outputs (more info [here](https://pytorch.org/docs/stable/fx.html#torch.fx.Node))\n",
    "- Internally, what happens is that we first convert to Pre-Autograd ATen Dialect\n",
    "    - Trace a module before any pre-autograd decomposition is run.\n",
    "    - Tracing means converting a PyTorch model into a more efficient, serialized format suitable for deployment in production or environments where Python might not be available.\n",
    "        ```\n",
    "        from torch._export import capture_pre_autograd_graph\n",
    "        pre_autograd_aten_dialect = capture_pre_autograd_graph(m, m.example_args)\n",
    "        ```\n",
    "- Somewhere (it is not clear if before or after the aten dialect) we quantize\n",
    "    - Lower the precision, maintaining the accuracy high enough\n",
    "    - Goal is to enhance memory and computational efficiency\n",
    "        ```\n",
    "        from torch.ao.quantization.quantize_pt2e import convert_pt2e, prepare_pt2e\n",
    "        from torch.ao.quantization.quantizer.xnnpack_quantizer import (\n",
    "            get_symmetric_quantization_config,\n",
    "            XNNPACKQuantizer,\n",
    "        )\n",
    "\n",
    "        quantizer = XNNPACKQuantizer().set_global(get_symmetric_quantization_config())\n",
    "        prepared_graph = prepare_pt2e(pre_autograd_aten_dialect, quantizer)\n",
    "        converted_graph = convert_pt2e(prepared_graph)\n",
    "        ```"
   ]
  },
  {
   "cell_type": "code",
   "execution_count": 13,
   "metadata": {},
   "outputs": [
    {
     "name": "stdout",
     "output_type": "stream",
     "text": [
      "opcode         name           target              args                 kwargs\n",
      "-------------  -------------  ------------------  -------------------  --------\n",
      "placeholder    p_fc_0_weight  p_fc_0_weight       ()                   {}\n",
      "placeholder    p_fc_0_bias    p_fc_0_bias         ()                   {}\n",
      "placeholder    x              x                   ()                   {}\n",
      "call_function  t              aten.t.default      (p_fc_0_weight,)     {}\n",
      "call_function  addmm          aten.addmm.default  (p_fc_0_bias, x, t)  {}\n",
      "call_function  relu           aten.relu.default   (addmm,)             {}\n",
      "output         output         output              ((relu,),)           {}\n"
     ]
    }
   ],
   "source": [
    "from torch.export import export, ExportedProgram # type: ignore\n",
    "aten_dialect: ExportedProgram = export(m, m.example_args)\n",
    "aten_dialect.graph.print_tabular()"
   ]
  },
  {
   "cell_type": "markdown",
   "metadata": {},
   "source": [
    "2) Edge Dialect\n",
    "- to_edge() returns an EdgeProgramManager object, which contains the exported programs which will be placed on this device\n",
    "    - DType specialization (to reduce binary size)\n",
    "    - Scalar to tensor conversion\n",
    "    - Converting all ops to the executorch.exir.dialects.edge namespace"
   ]
  },
  {
   "cell_type": "code",
   "execution_count": 14,
   "metadata": {},
   "outputs": [
    {
     "name": "stdout",
     "output_type": "stream",
     "text": [
      "opcode         name                       target                                                                                                                                         args                                         kwargs\n",
      "-------------  -------------------------  ---------------------------------------------------------------------------------------------------------------------------------------------  -------------------------------------------  --------\n",
      "placeholder    p_fc_0_weight              p_fc_0_weight                                                                                                                                  ()                                           {}\n",
      "placeholder    p_fc_0_bias                p_fc_0_bias                                                                                                                                    ()                                           {}\n",
      "placeholder    x                          x                                                                                                                                              ()                                           {}\n",
      "call_function  aten_permute_copy_default  <EdgeOpOverload: aten.permute_copy.default>: schema = aten::permute_copy(Tensor self, int[] dims) -> Tensor                                    (p_fc_0_weight, [1, 0])                      {}\n",
      "call_function  aten_addmm_default         <EdgeOpOverload: aten.addmm.default>: schema = aten::addmm(Tensor self, Tensor mat1, Tensor mat2, *, Scalar beta=1, Scalar alpha=1) -> Tensor  (p_fc_0_bias, x, aten_permute_copy_default)  {}\n",
      "call_function  aten_relu_default          <EdgeOpOverload: aten.relu.default>: schema = aten::relu(Tensor self) -> Tensor                                                                (aten_addmm_default,)                        {}\n",
      "output         output                     output                                                                                                                                         ((aten_relu_default,),)                      {}\n"
     ]
    }
   ],
   "source": [
    "from executorch.exir import EdgeProgramManager, to_edge # type: ignore\n",
    "edge_program: EdgeProgramManager = to_edge(aten_dialect)\n",
    "to_be_lowered_module = edge_program.exported_program()\n",
    "to_be_lowered_module.graph.print_tabular()"
   ]
  },
  {
   "cell_type": "markdown",
   "metadata": {},
   "source": [
    "3. Delegate to a Backend (optional)"
   ]
  },
  {
   "cell_type": "code",
   "execution_count": 15,
   "metadata": {},
   "outputs": [],
   "source": [
    "from executorch.exir.backend.backend_api import LoweredBackendModule, to_backend # type: ignore\n",
    "from executorch.exir.backend.test.backend_with_compiler_demo import (  # noqa # type: ignore\n",
    "    BackendWithCompilerDemo,\n",
    ")"
   ]
  },
  {
   "cell_type": "markdown",
   "metadata": {},
   "source": [
    "4. Executorch Program"
   ]
  },
  {
   "cell_type": "code",
   "execution_count": 16,
   "metadata": {},
   "outputs": [
    {
     "name": "stdout",
     "output_type": "stream",
     "text": [
      "ExecuTorch Dialect\n",
      "opcode         name                       target                              args                                         kwargs\n",
      "-------------  -------------------------  ----------------------------------  -------------------------------------------  ----------------\n",
      "placeholder    p_fc_0_weight              p_fc_0_weight                       ()                                           {}\n",
      "placeholder    p_fc_0_bias                p_fc_0_bias                         ()                                           {}\n",
      "placeholder    x                          x                                   ()                                           {}\n",
      "call_function  alloc                      <function alloc at 0x7b0fb1163880>  (((4, 1), torch.float32),)                   {}\n",
      "call_function  aten_permute_copy_default  aten.permute_copy.out               (p_fc_0_weight, [1, 0])                      {'out': alloc}\n",
      "call_function  alloc_1                    <function alloc at 0x7b0fb1163880>  (((1, 1), torch.float32),)                   {}\n",
      "call_function  aten_addmm_default         aten.addmm.out                      (p_fc_0_bias, x, aten_permute_copy_default)  {'out': alloc_1}\n",
      "call_function  alloc_2                    <function alloc at 0x7b0fb1163880>  (((1, 1), torch.float32),)                   {}\n",
      "call_function  aten_relu_default          aten.relu.out                       (aten_addmm_default,)                        {'out': alloc_2}\n",
      "output         output_1                   output                              ((aten_relu_default,),)                      {}\n",
      "None\n"
     ]
    }
   ],
   "source": [
    "from executorch.exir import ExecutorchBackendConfig, ExecutorchProgramManager # type: ignore\n",
    "\n",
    "executorch_program: ExecutorchProgramManager = edge_program.to_executorch()\n",
    "\n",
    "print(\"ExecuTorch Dialect\")\n",
    "print(executorch_program.exported_program().graph.print_tabular())\n",
    "\n",
    "with open(f\"{projroot}/model-weights/executorch/fc/model.pte\", \"wb\") as file:\n",
    "    file.write(executorch_program.buffer)"
   ]
  }
 ],
 "metadata": {
  "kernelspec": {
   "display_name": "machine-learning",
   "language": "python",
   "name": "python3"
  },
  "language_info": {
   "codemirror_mode": {
    "name": "ipython",
    "version": 3
   },
   "file_extension": ".py",
   "mimetype": "text/x-python",
   "name": "python",
   "nbconvert_exporter": "python",
   "pygments_lexer": "ipython3",
   "version": "3.10.0"
  }
 },
 "nbformat": 4,
 "nbformat_minor": 2
}
