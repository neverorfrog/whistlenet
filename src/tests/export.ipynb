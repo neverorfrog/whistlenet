{
 "cells": [
  {
   "cell_type": "code",
   "execution_count": 6,
   "metadata": {},
   "outputs": [],
   "source": [
    "import sys\n",
    "sys.path.append('..')\n",
    "from core import project_root\n",
    "projroot = project_root()\n",
    "import warnings\n",
    "warnings.filterwarnings(\"ignore\")"
   ]
  },
  {
   "cell_type": "code",
   "execution_count": 7,
   "metadata": {},
   "outputs": [
    {
     "name": "stdout",
     "output_type": "stream",
     "text": [
      "MODEL LOADED!\n"
     ]
    }
   ],
   "source": [
    "from models import ToyModel\n",
    "from models import WhistleNet\n",
    "\n",
    "torch_model = ToyModel(\"cnn\", 10)\n",
    "torch_model = WhistleNet(\"boh2\", 10)\n",
    "torch_model.load(\"whistle/boh\")"
   ]
  },
  {
   "cell_type": "code",
   "execution_count": 8,
   "metadata": {},
   "outputs": [
    {
     "name": "stdout",
     "output_type": "stream",
     "text": [
      "DATA SAVED!\n",
      "torch.Size([1, 1, 28, 28])\n"
     ]
    },
    {
     "data": {
      "image/png": "[encoded data removed]",
      "text/plain": [
       "<Figure size 640x480 with 1 Axes>"
      ]
     },
     "metadata": {},
     "output_type": "display_data"
    }
   ],
   "source": [
    "import matplotlib.pyplot as plt\n",
    "from torch import Tensor\n",
    "import torch\n",
    "\n",
    "from datamodules.mnist import MnistDataset\n",
    "from models import MNIST_CONFIG as config\n",
    "\n",
    "dataset = MnistDataset(tobeloaded=False, params=config)\n",
    "dataloader = dataset.train_dataloader(1)\n",
    "batch: Tensor = next(iter(dataloader))[0]\n",
    "img = batch[0]\n",
    "plt.gca().imshow(img)\n",
    "torch_input = batch.unsqueeze(1).to(torch.float32)\n",
    "print(torch_input.shape)"
   ]
  },
  {
   "cell_type": "code",
   "execution_count": 9,
   "metadata": {},
   "outputs": [],
   "source": [
    "# from core.trainer import Trainer\n",
    "# from models import TRAIN_CONFIG\n",
    "\n",
    "# trainer = Trainer(params=TRAIN_CONFIG)\n",
    "# # trainer.fit(torch_model,dataset)\n",
    "# print(torch_model(torch_input)[0])\n",
    "# plt.plot(torch_model.test_scores, label=f'mnist - test scores')\n",
    "# plt.show()"
   ]
  },
  {
   "cell_type": "code",
   "execution_count": 10,
   "metadata": {},
   "outputs": [
    {
     "name": "stderr",
     "output_type": "stream",
     "text": [
      "INFO:executorch.backends.xnnpack.partition.xnnpack_partitioner:Found 8 subgraphs to be partitioned.\n"
     ]
    },
    {
     "name": "stdout",
     "output_type": "stream",
     "text": [
      "opcode         name                           target                              args                                               kwargs\n",
      "-------------  -----------------------------  ----------------------------------  -------------------------------------------------  -----------------\n",
      "placeholder    arg12_1                        arg12_1                             ()                                                 {}\n",
      "call_function  alloc                          <function alloc at 0x7a7335823ba0>  (((1, 1, 513), torch.float32),)                    {}\n",
      "call_function  aten_alias_copy_default        aten.alias_copy.out                 (arg12_1,)                                         {'out': alloc}\n",
      "call_function  alloc_1                        <function alloc at 0x7a7335823ba0>  (((1, 1, 513), torch.float32),)                    {}\n",
      "call_function  aten_alias_copy_default_1      aten.alias_copy.out                 (aten_alias_copy_default,)                         {'out': alloc_1}\n",
      "call_function  alloc_2                        <function alloc at 0x7a7335823ba0>  (((1, 1, 513), torch.float32),)                    {}\n",
      "call_function  aten_alias_copy_default_2      aten.alias_copy.out                 (aten_alias_copy_default_1,)                       {'out': alloc_2}\n",
      "call_function  alloc_3                        <function alloc at 0x7a7335823ba0>  (((1, 1, 513), torch.float32),)                    {}\n",
      "call_function  aten_alias_copy_default_3      aten.alias_copy.out                 (aten_alias_copy_default_2,)                       {'out': alloc_3}\n",
      "call_function  alloc_4                        <function alloc at 0x7a7335823ba0>  (((1, 1, 513), torch.float32),)                    {}\n",
      "call_function  aten_alias_copy_default_4      aten.alias_copy.out                 (aten_alias_copy_default_3,)                       {'out': alloc_4}\n",
      "call_function  alloc_5                        <function alloc at 0x7a7335823ba0>  (((1, 1, 513), torch.float32),)                    {}\n",
      "call_function  aten_alias_copy_default_5      aten.alias_copy.out                 (aten_alias_copy_default_4,)                       {'out': alloc_5}\n",
      "call_function  alloc_6                        <function alloc at 0x7a7335823ba0>  (((1, 1, 513), torch.float32),)                    {}\n",
      "call_function  aten_alias_copy_default_6      aten.alias_copy.out                 (aten_alias_copy_default_5,)                       {'out': alloc_6}\n",
      "call_function  alloc_7                        <function alloc at 0x7a7335823ba0>  (((1, 1, 513), torch.float32),)                    {}\n",
      "call_function  aten_alias_copy_default_7      aten.alias_copy.out                 (aten_alias_copy_default_6,)                       {'out': alloc_7}\n",
      "call_function  alloc_8                        <function alloc at 0x7a7335823ba0>  (((1, 1, 513), torch.float32),)                    {}\n",
      "call_function  aten_alias_copy_default_8      aten.alias_copy.out                 (aten_alias_copy_default_7,)                       {'out': alloc_8}\n",
      "call_function  alloc_9                        <function alloc at 0x7a7335823ba0>  (((1, 1, 513), torch.float32),)                    {}\n",
      "call_function  aten__to_copy_default          aten._to_copy.out                   (aten_alias_copy_default_8,)                       {'out': alloc_9}\n",
      "get_attr       lowered_module_0               lowered_module_0                    ()                                                 {}\n",
      "call_function  executorch_call_delegate       executorch_call_delegate            (lowered_module_0, aten__to_copy_default)          {}\n",
      "call_function  getitem                        <built-in function getitem>         (executorch_call_delegate, 0)                      {}\n",
      "call_function  alloc_10                       <function alloc at 0x7a7335823ba0>  (((1, 32, 1, 255), torch.float32),)                {}\n",
      "call_function  aten_unsqueeze_copy_default    aten.unsqueeze_copy.out             (getitem, -2)                                      {'out': alloc_10}\n",
      "get_attr       lowered_module_1               lowered_module_1                    ()                                                 {}\n",
      "call_function  executorch_call_delegate_1     executorch_call_delegate            (lowered_module_1, aten_unsqueeze_copy_default)    {}\n",
      "call_function  getitem_1                      <built-in function getitem>         (executorch_call_delegate_1, 0)                    {}\n",
      "call_function  alloc_11                       <function alloc at 0x7a7335823ba0>  (((1, 32, 254), torch.float32),)                   {}\n",
      "call_function  aten_squeeze_copy_dims         aten.squeeze_copy.dims_out          (getitem_1, [-2])                                  {'out': alloc_11}\n",
      "call_function  alloc_12                       <function alloc at 0x7a7335823ba0>  (((1, 32, 254), torch.float32),)                   {}\n",
      "call_function  aten_clone_default             aten.clone.out                      (aten_squeeze_copy_dims,)                          {'out': alloc_12}\n",
      "get_attr       lowered_module_2               lowered_module_2                    ()                                                 {}\n",
      "call_function  executorch_call_delegate_2     executorch_call_delegate            (lowered_module_2, aten_clone_default)             {}\n",
      "call_function  getitem_2                      <built-in function getitem>         (executorch_call_delegate_2, 0)                    {}\n",
      "call_function  alloc_13                       <function alloc at 0x7a7335823ba0>  (((1, 64, 1, 125), torch.float32),)                {}\n",
      "call_function  aten_unsqueeze_copy_default_1  aten.unsqueeze_copy.out             (getitem_2, -2)                                    {'out': alloc_13}\n",
      "get_attr       lowered_module_3               lowered_module_3                    ()                                                 {}\n",
      "call_function  executorch_call_delegate_3     executorch_call_delegate            (lowered_module_3, aten_unsqueeze_copy_default_1)  {}\n",
      "call_function  getitem_3                      <built-in function getitem>         (executorch_call_delegate_3, 0)                    {}\n",
      "call_function  alloc_14                       <function alloc at 0x7a7335823ba0>  (((1, 64, 124), torch.float32),)                   {}\n",
      "call_function  aten_squeeze_copy_dims_1       aten.squeeze_copy.dims_out          (getitem_3, [-2])                                  {'out': alloc_14}\n",
      "call_function  alloc_15                       <function alloc at 0x7a7335823ba0>  (((1, 64, 124), torch.float32),)                   {}\n",
      "call_function  aten_clone_default_1           aten.clone.out                      (aten_squeeze_copy_dims_1,)                        {'out': alloc_15}\n",
      "get_attr       lowered_module_4               lowered_module_4                    ()                                                 {}\n",
      "call_function  executorch_call_delegate_4     executorch_call_delegate            (lowered_module_4, aten_clone_default_1)           {}\n",
      "call_function  getitem_4                      <built-in function getitem>         (executorch_call_delegate_4, 0)                    {}\n",
      "call_function  alloc_16                       <function alloc at 0x7a7335823ba0>  (((1, 128, 1, 60), torch.float32),)                {}\n",
      "call_function  aten_unsqueeze_copy_default_2  aten.unsqueeze_copy.out             (getitem_4, -2)                                    {'out': alloc_16}\n",
      "get_attr       lowered_module_5               lowered_module_5                    ()                                                 {}\n",
      "call_function  executorch_call_delegate_5     executorch_call_delegate            (lowered_module_5, aten_unsqueeze_copy_default_2)  {}\n",
      "call_function  getitem_5                      <built-in function getitem>         (executorch_call_delegate_5, 0)                    {}\n",
      "call_function  alloc_17                       <function alloc at 0x7a7335823ba0>  (((1, 128, 59), torch.float32),)                   {}\n",
      "call_function  aten_squeeze_copy_dims_2       aten.squeeze_copy.dims_out          (getitem_5, [-2])                                  {'out': alloc_17}\n",
      "call_function  alloc_18                       <function alloc at 0x7a7335823ba0>  (((1, 128, 59), torch.float32),)                   {}\n",
      "call_function  aten_clone_default_2           aten.clone.out                      (aten_squeeze_copy_dims_2,)                        {'out': alloc_18}\n",
      "get_attr       lowered_module_6               lowered_module_6                    ()                                                 {}\n",
      "call_function  executorch_call_delegate_6     executorch_call_delegate            (lowered_module_6, aten_clone_default_2)           {}\n",
      "call_function  getitem_6                      <built-in function getitem>         (executorch_call_delegate_6, 0)                    {}\n",
      "call_function  alloc_19                       <function alloc at 0x7a7335823ba0>  (((1, 3520), torch.float32),)                      {}\n",
      "call_function  aten_view_copy_default         aten.view_copy.out                  (getitem_6, [1, 3520])                             {'out': alloc_19}\n",
      "get_attr       lowered_module_7               lowered_module_7                    ()                                                 {}\n",
      "call_function  executorch_call_delegate_7     executorch_call_delegate            (lowered_module_7, aten_view_copy_default)         {}\n",
      "call_function  getitem_7                      <built-in function getitem>         (executorch_call_delegate_7, 0)                    {}\n",
      "call_function  alloc_20                       <function alloc at 0x7a7335823ba0>  (((1, 2), torch.float32),)                         {}\n",
      "call_function  aten_clone_default_3           aten.clone.out                      (getitem_7,)                                       {'out': alloc_20}\n",
      "output         output_1                       output                              ((aten_clone_default_3,),)                         {}\n",
      "None\n"
     ]
    }
   ],
   "source": [
    "from core import ExecutorchModel\n",
    "from core import ONNXModel\n",
    "\n",
    "torch_model.eval()\n",
    "executorchmodel = ExecutorchModel(torch_model)\n",
    "onnxmodel = ONNXModel(torch_model)\n",
    "# onnxmodel.load()"
   ]
  },
  {
   "cell_type": "code",
   "execution_count": 16,
   "metadata": {},
   "outputs": [
    {
     "name": "stdout",
     "output_type": "stream",
     "text": [
      "0.3491533041000366\n"
     ]
    }
   ],
   "source": [
    "import time\n",
    "import numpy as np\n",
    "\n",
    "onnx_elapsed = 0\n",
    "iterations = 10000\n",
    "onnx_elapsed = []\n",
    "\n",
    "for i in range(iterations):\n",
    "    torch_input = torch.rand(torch_model.example_input[0].shape)\n",
    "    start = time.time()\n",
    "    onnxmodel(torch_input)\n",
    "    end = time.time()\n",
    "    onnx_elapsed.append(end - start)\n",
    "\n",
    "print(np.mean(onnx_elapsed) * 1000)"
   ]
  }
 ],
 "metadata": {
  "kernelspec": {
   "display_name": "machine-learning",
   "language": "python",
   "name": "python3"
  },
  "language_info": {
   "codemirror_mode": {
    "name": "ipython",
    "version": 3
   },
   "file_extension": ".py",
   "mimetype": "text/x-python",
   "name": "python",
   "nbconvert_exporter": "python",
   "pygments_lexer": "ipython3",
   "version": "3.11.0"
  }
 },
 "nbformat": 4,
 "nbformat_minor": 2
}
