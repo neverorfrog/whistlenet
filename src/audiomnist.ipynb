{
 "cells": [
  {
   "cell_type": "code",
   "execution_count": null,
   "metadata": {},
   "outputs": [],
   "source": [
    "import os\n",
    "from data import AudioMnistDataset\n",
    "from sys import exit\n",
    "from utils import project_root\n",
    "%reload_ext autoreload\n",
    "%autoreload 2\n",
    "\n",
    "projroot = project_root()\n",
    "root = f\"{projroot}/data\"\n",
    "\n",
    "path = os.path.join(root,\"audiomnist\",\"raw\")\n",
    "dataset = AudioMnistDataset(path, load=False)\n",
    "print(dataset.classes)"
   ]
  }
 ],
 "metadata": {
  "kernelspec": {
   "display_name": "whistle",
   "language": "python",
   "name": "python3"
  },
  "language_info": {
   "codemirror_mode": {
    "name": "ipython",
    "version": 3
   },
   "file_extension": ".py",
   "mimetype": "text/x-python",
   "name": "python",
   "nbconvert_exporter": "python",
   "pygments_lexer": "ipython3",
   "version": "3.11.0"
  }
 },
 "nbformat": 4,
 "nbformat_minor": 2
}
