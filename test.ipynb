{
 "cells": [
  {
   "cell_type": "code",
   "execution_count": 2,
   "metadata": {},
   "outputs": [
    {
     "name": "stdout",
     "output_type": "stream",
     "text": [
      "False\n"
     ]
    }
   ],
   "source": [
    "# import sys\n",
    "# sys.path.append(\"../src\")\n",
    "\n",
    "# from utils import project_root\n",
    "# from data import WhistleDataset\n",
    "# import numpy as np\n",
    "\n",
    "# import yaml\n",
    "# from omegaconf import OmegaConf\n",
    "# file_path = \"../config/whistle.yaml\"\n",
    "# with open(file_path, 'r') as file:\n",
    "#     config = OmegaConf.create(yaml.safe_load(file))\n",
    "\n",
    "# projroot = project_root()\n",
    "# datapath = f\"{projroot}/data/whistle\"\n",
    "# train_samples = np.load(f\"{datapath}/whistle_x_base_train.npy\")\n",
    "# print(train_samples.shape)\n",
    "\n",
    "# dataset = WhistleDataset(config)\n",
    "# dataset.summarize()\n",
    "\n",
    "import whistlenet.ckconv.layers as layers\n",
    "\n",
    "print(hasattr(layers, \"Siene\"))"
   ]
  }
 ],
 "metadata": {
  "kernelspec": {
   "display_name": "ccnn",
   "language": "python",
   "name": "python3"
  },
  "language_info": {
   "codemirror_mode": {
    "name": "ipython",
    "version": 3
   },
   "file_extension": ".py",
   "mimetype": "text/x-python",
   "name": "python",
   "nbconvert_exporter": "python",
   "pygments_lexer": "ipython3",
   "version": "3.11.0"
  }
 },
 "nbformat": 4,
 "nbformat_minor": 2
}
