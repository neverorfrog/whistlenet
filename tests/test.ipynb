{
 "cells": [
  {
   "cell_type": "code",
   "execution_count": 1,
   "metadata": {},
   "outputs": [
    {
     "name": "stdout",
     "output_type": "stream",
     "text": [
      "(544503, 513, 1)\n",
      "DATA SAVED!\n",
      "N Examples: 435603\n",
      "N Classes: 2\n",
      "Classes: [0. 1.]\n",
      " - Class 0: 243257 (55.843738449918845)\n",
      " - Class 1: 192346 (44.15626155008115)\n"
     ]
    }
   ],
   "source": [
    "import sys\n",
    "sys.path.append(\"../src\")\n",
    "\n",
    "from utils import project_root\n",
    "from data import WhistleDataset\n",
    "import numpy as np\n",
    "\n",
    "import yaml\n",
    "from omegaconf import OmegaConf\n",
    "file_path = \"../config/whistle.yaml\"\n",
    "with open(file_path, 'r') as file:\n",
    "    config = OmegaConf.create(yaml.safe_load(file))\n",
    "\n",
    "projroot = project_root()\n",
    "datapath = f\"{projroot}/data/whistle\"\n",
    "train_samples = np.load(f\"{datapath}/whistle_x_base_train.npy\")\n",
    "print(train_samples.shape)\n",
    "\n",
    "dataset = WhistleDataset(config)\n",
    "dataset.summarize()"
   ]
  }
 ],
 "metadata": {
  "kernelspec": {
   "display_name": "ccnn",
   "language": "python",
   "name": "python3"
  },
  "language_info": {
   "codemirror_mode": {
    "name": "ipython",
    "version": 3
   },
   "file_extension": ".py",
   "mimetype": "text/x-python",
   "name": "python",
   "nbconvert_exporter": "python",
   "pygments_lexer": "ipython3",
   "version": "3.11.0"
  }
 },
 "nbformat": 4,
 "nbformat_minor": 2
}
