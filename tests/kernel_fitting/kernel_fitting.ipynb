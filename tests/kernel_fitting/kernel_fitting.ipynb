{
 "cells": [
  {
   "cell_type": "code",
   "execution_count": null,
   "metadata": {},
   "outputs": [],
   "source": [
    "import sys\n",
    "sys.path.append(\"../../src\")\n",
    "\n",
    "import yaml\n",
    "from omegaconf import OmegaConf\n",
    "from matplotlib import pyplot as plt\n",
    "from utils import num_params\n",
    "\n",
    "# Load the configuration\n",
    "file_path = \"config.yaml\"\n",
    "with open(file_path, 'r') as file:\n",
    "    config = OmegaConf.create(yaml.safe_load(file))\n",
    "\n",
    "import torch\n",
    "import numpy as np\n",
    "torch.manual_seed(config.seed)\n",
    "np.random.seed(config.seed)"
   ]
  },
  {
   "cell_type": "code",
   "execution_count": null,
   "metadata": {},
   "outputs": [],
   "source": [
    "from ckconv import KernelNet, CKConv\n",
    "\n",
    "model = KernelNet(\n",
    "    out_channels=1,\n",
    "    hidden_channels=config.hidden_channels,\n",
    "    activation=config.activation,\n",
    "    bias=True,\n",
    "    omega_0=config.omega_0,\n",
    ")"
   ]
  },
  {
   "cell_type": "code",
   "execution_count": null,
   "metadata": {},
   "outputs": [],
   "source": [
    "from functions import example_function\n",
    "\n",
    "function = example_function(config)\n",
    "plt.plot(function)\n",
    "plt.title(\"Ground Truth\")\n",
    "plt.show()\n",
    "\n",
    "# input to the model\n",
    "x: torch.Tensor = ( torch\n",
    "     .linspace(config.min, config.max, config.samples)\n",
    "     .type(torch.FloatTensor)\n",
    "     .unsqueeze(0)\n",
    "     .unsqueeze(0)\n",
    ")\n",
    "\n",
    "# actual output of the target function\n",
    "f: torch.Tensor = ( torch\n",
    "     .from_numpy(function)\n",
    "     .type(torch.FloatTensor)\n",
    "     .unsqueeze(0)\n",
    "     .unsqueeze(0) \n",
    ")"
   ]
  },
  {
   "cell_type": "code",
   "execution_count": null,
   "metadata": {},
   "outputs": [],
   "source": [
    "from tqdm import tqdm\n",
    "from utils import plot_fitted_kernel\n",
    "from matplotlib.animation import FuncAnimation\n",
    "\n",
    "lr = config.lr\n",
    "optimizer = getattr(torch.optim, config.optim)(model.parameters(), lr=lr)\n",
    "total_loss = 0\n",
    "train_losses = []\n",
    "\n",
    "\n",
    "with tqdm(range(config.iterations)) as pbar:\n",
    "    for i in pbar:\n",
    "        model.train()\n",
    "        optimizer.zero_grad()\n",
    "        output = model(x)\n",
    "        loss = torch.nn.functional.mse_loss(output,f)\n",
    "        loss.backward()\n",
    "        optimizer.step()\n",
    "        total_loss += loss.item()\n",
    "        train_losses.append(loss.item())\n",
    "        pbar.set_description(f\"Loss: {loss.item():.8f}\")\n",
    "\n",
    "plt.figure()\n",
    "plt.plot(train_losses)\n",
    "plt.show()"
   ]
  },
  {
   "cell_type": "code",
   "execution_count": null,
   "metadata": {},
   "outputs": [],
   "source": [
    "from utils import plot_fitted_kernel\n",
    "\n",
    "kernelfig = plt.figure()\n",
    "model.eval()\n",
    "with torch.no_grad():\n",
    "    output = model(x)\n",
    "    loss = torch.nn.functional.mse_loss(output, f)\n",
    "    plot_fitted_kernel(\n",
    "        kernelfig,\n",
    "        output.detach().cpu().squeeze().numpy(),\n",
    "        f.detach().cpu().squeeze().numpy(),\n",
    "        loss,\n",
    "        config\n",
    "    )\n",
    "    plt.show()"
   ]
  }
 ],
 "metadata": {
  "kernelspec": {
   "display_name": "whistle",
   "language": "python",
   "name": "python3"
  },
  "language_info": {
   "codemirror_mode": {
    "name": "ipython",
    "version": 3
   },
   "file_extension": ".py",
   "mimetype": "text/x-python",
   "name": "python",
   "nbconvert_exporter": "python",
   "pygments_lexer": "ipython3",
   "version": "3.11.0"
  }
 },
 "nbformat": 4,
 "nbformat_minor": 2
}
