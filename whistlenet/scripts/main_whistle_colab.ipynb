{
 "cells": [
  {
   "cell_type": "markdown",
   "metadata": {},
   "source": [
    "[![Open In Colab](https://colab.research.google.com/assets/colab-badge.svg)](https://colab.research.google.com/github/neverorfrog/whistlenet/blob/main/whistlenet/scripts/main_whistle_colab.ipynb)"
   ]
  },
  {
   "cell_type": "code",
   "execution_count": null,
   "metadata": {},
   "outputs": [],
   "source": [
    "import sys\n",
    "\n",
    "COLAB_RUNTIME = 'google.colab' in sys.modules\n",
    "if COLAB_RUNTIME:\n",
    "    !git init\n",
    "    !git remote add origin https://github.com/neverorfrog/whistlenet.git\n",
    "    !git pull origin main\n",
    "    !pip install -q -r requirements.txt\n",
    "else:\n",
    "    !pip install -q -r requirements.txt\n",
    "    !pre-commit autoupdate\n",
    "    !pre-commit install"
   ]
  },
  {
   "cell_type": "code",
   "execution_count": 2,
   "metadata": {},
   "outputs": [],
   "source": [
    "from config import *\n",
    "import os\n",
    "import warnings\n",
    "warnings.filterwarnings(\"ignore\")\n",
    "import torch\n",
    "import numpy as np\n",
    "from whistlenet.core.utils import project_root\n",
    "\n",
    "config_path = os.path.join(project_root(), \"config\",\"whistle_config.yaml\")\n",
    "config: Config = load_config(config_path)\n",
    "torch_config: TorchConfig = config.torch\n",
    "dataset_config: DatasetConfig = config.dataset\n",
    "trainer_config: TrainerConfig = config.trainer\n",
    "baseline_config: BaselineConfig = config.baseline\n",
    "whistlenet_config: WhistlenetConfig = config.whistlenet\n",
    "torch.manual_seed(torch_config.seed)\n",
    "np.random.seed(torch_config.seed)"
   ]
  },
  {
   "cell_type": "code",
   "execution_count": null,
   "metadata": {},
   "outputs": [],
   "source": [
    "from whistlenet.data import WhistleDataset\n",
    "from whistlenet.core.utils import plot, NUM_FREQS\n",
    "from whistlenet.core.utils.audio import SampleType\n",
    "import gdown\n",
    "\n",
    "download_path = os.path.join(dataset_config.download_folder, dataset_config.name)\n",
    "gdown.download_folder(\n",
    "   dataset_config.drive_url, output=download_path\n",
    ")\n",
    "\n",
    "dataset = WhistleDataset(dataset_config)\n",
    "dataset.summarize()\n",
    "reshaped = dataset.train_data.reshape((dataset.train_data.data.shape[0], NUM_FREQS))\n",
    "plot(reshaped, dataset.train_data.labels, SampleType)"
   ]
  },
  {
   "cell_type": "code",
   "execution_count": null,
   "metadata": {},
   "outputs": [],
   "source": [
    "from whistlenet.models import WhistleNet, Baseline\n",
    "from whistlenet.core import LightningTrainer\n",
    "\n",
    "model = WhistleNet(in_channels=1, out_channels=1, config=whistlenet_config)\n",
    "trainer = LightningTrainer(trainer_config)\n",
    "trainer.fit(model,dataset)"
   ]
  }
 ],
 "metadata": {
  "kernelspec": {
   "display_name": "default",
   "language": "python",
   "name": "python3"
  },
  "language_info": {
   "codemirror_mode": {
    "name": "ipython",
    "version": 3
   },
   "file_extension": ".py",
   "mimetype": "text/x-python",
   "name": "python",
   "nbconvert_exporter": "python",
   "pygments_lexer": "ipython3",
   "version": "3.9.0"
  }
 },
 "nbformat": 4,
 "nbformat_minor": 2
}
