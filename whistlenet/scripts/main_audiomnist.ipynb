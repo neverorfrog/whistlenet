{
 "cells": [
  {
   "cell_type": "code",
   "execution_count": 1,
   "metadata": {},
   "outputs": [
    {
     "name": "stderr",
     "output_type": "stream",
     "text": [
      "/home/neverorfrog/code/whistle/whistlenet/.pixi/envs/default/lib/python3.9/site-packages/onnxscript/converter.py:823: FutureWarning: 'onnxscript.values.Op.param_schemas' is deprecated in version 0.1 and will be removed in the future. Please use '.op_signature' instead.\n",
      "  param_schemas = callee.param_schemas()\n",
      "/home/neverorfrog/code/whistle/whistlenet/.pixi/envs/default/lib/python3.9/site-packages/onnxscript/converter.py:823: FutureWarning: 'onnxscript.values.OnnxFunction.param_schemas' is deprecated in version 0.1 and will be removed in the future. Please use '.op_signature' instead.\n",
      "  param_schemas = callee.param_schemas()\n"
     ]
    },
    {
     "name": "stdout",
     "output_type": "stream",
     "text": [
      "[<Optimizer.ASGD: 'ASGD'>, <Optimizer.Adadelta: 'Adadelta'>, <Optimizer.Adagrad: 'Adagrad'>, <Optimizer.Adam: 'Adam'>, <Optimizer.AdamW: 'AdamW'>, <Optimizer.Adamax: 'Adamax'>, <Optimizer.LBFGS: 'LBFGS'>, <Optimizer.NAdam: 'NAdam'>, <Optimizer.Optimizer: 'Optimizer'>, <Optimizer.RAdam: 'RAdam'>, <Optimizer.RMSprop: 'RMSprop'>, <Optimizer.Rprop: 'Rprop'>, <Optimizer.SGD: 'SGD'>, <Optimizer.SparseAdam: 'SparseAdam'>]\n"
     ]
    }
   ],
   "source": [
    "from config import *\n",
    "import os\n",
    "from whistlenet.core.utils import project_root\n",
    "import warnings\n",
    "warnings.filterwarnings(\"ignore\")\n",
    "\n",
    "config_path = os.path.join(project_root(), \"config\",\"audiomnist_config.yaml\")\n",
    "config: Config = load_config(config_path)\n",
    "torch_config: TorchConfig = config.torch\n",
    "dataset_config: DatasetConfig = config.dataset\n",
    "trainer_config: TrainerConfig = config.trainer\n",
    "baseline_config: BaselineConfig = config.baseline\n",
    "whistlenet_config: WhistlenetConfig = config.whistlenet\n",
    "\n",
    "from config.enums import Optimizer\n",
    "print(list(Optimizer))\n",
    "\n",
    "import torch\n",
    "import numpy as np\n",
    "torch.manual_seed(torch_config.seed)\n",
    "np.random.seed(torch_config.seed)"
   ]
  },
  {
   "cell_type": "code",
   "execution_count": 2,
   "metadata": {},
   "outputs": [
    {
     "ename": "RuntimeError",
     "evalue": "Sizes of tensors must match except in dimension 0. Expected size 38210 but got size 27221 for tensor number 1 in the list.",
     "output_type": "error",
     "traceback": [
      "\u001b[0;31m---------------------------------------------------------------------------\u001b[0m",
      "\u001b[0;31mRuntimeError\u001b[0m                              Traceback (most recent call last)",
      "Cell \u001b[0;32mIn[2], line 4\u001b[0m\n\u001b[1;32m      1\u001b[0m \u001b[38;5;28;01mfrom\u001b[39;00m\u001b[38;5;250m \u001b[39m\u001b[38;5;21;01mwhistlenet\u001b[39;00m\u001b[38;5;21;01m.\u001b[39;00m\u001b[38;5;21;01mdata\u001b[39;00m\u001b[38;5;21;01m.\u001b[39;00m\u001b[38;5;21;01maudiomnist\u001b[39;00m\u001b[38;5;250m \u001b[39m\u001b[38;5;28;01mimport\u001b[39;00m AudioMnistDataset\n\u001b[1;32m      2\u001b[0m \u001b[38;5;28;01mfrom\u001b[39;00m\u001b[38;5;250m \u001b[39m\u001b[38;5;21;01mwhistlenet\u001b[39;00m\u001b[38;5;21;01m.\u001b[39;00m\u001b[38;5;21;01mcore\u001b[39;00m\u001b[38;5;21;01m.\u001b[39;00m\u001b[38;5;21;01mutils\u001b[39;00m\u001b[38;5;250m \u001b[39m\u001b[38;5;28;01mimport\u001b[39;00m plot, NUM_FREQS\n\u001b[0;32m----> 4\u001b[0m dataset \u001b[38;5;241m=\u001b[39m \u001b[43mAudioMnistDataset\u001b[49m\u001b[43m(\u001b[49m\u001b[43mdataset_config\u001b[49m\u001b[43m)\u001b[49m\n\u001b[1;32m      5\u001b[0m dataset\u001b[38;5;241m.\u001b[39msummarize()\n\u001b[1;32m      9\u001b[0m reshaped \u001b[38;5;241m=\u001b[39m dataset\u001b[38;5;241m.\u001b[39mtrain_data\u001b[38;5;241m.\u001b[39mreshape((dataset\u001b[38;5;241m.\u001b[39mtrain_data\u001b[38;5;241m.\u001b[39mdata\u001b[38;5;241m.\u001b[39mshape[\u001b[38;5;241m0\u001b[39m], NUM_FREQS))\n",
      "File \u001b[0;32m~/code/whistle/whistlenet/whistlenet/data/audiomnist.py:21\u001b[0m, in \u001b[0;36mAudioMnistDataset.__init__\u001b[0;34m(self, config)\u001b[0m\n\u001b[1;32m     19\u001b[0m rawdatapath \u001b[38;5;241m=\u001b[39m \u001b[38;5;124mf\u001b[39m\u001b[38;5;124m\"\u001b[39m\u001b[38;5;132;01m{\u001b[39;00mdataroot\u001b[38;5;132;01m}\u001b[39;00m\u001b[38;5;124m/audiomnist/raw\u001b[39m\u001b[38;5;124m\"\u001b[39m\n\u001b[1;32m     20\u001b[0m \u001b[38;5;28;01mif\u001b[39;00m config\u001b[38;5;241m.\u001b[39mload_data \u001b[38;5;129;01mis\u001b[39;00m \u001b[38;5;28;01mFalse\u001b[39;00m:\n\u001b[0;32m---> 21\u001b[0m     \u001b[38;5;28;43mself\u001b[39;49m\u001b[38;5;241;43m.\u001b[39;49m\u001b[43m_construct_dataset\u001b[49m\u001b[43m(\u001b[49m\u001b[43mrawdatapath\u001b[49m\u001b[43m)\u001b[49m\n\u001b[1;32m     23\u001b[0m     \u001b[38;5;66;03m# train-test split\u001b[39;00m\n\u001b[1;32m     24\u001b[0m     (train_samples, train_labels, test_samples, test_labels) \u001b[38;5;241m=\u001b[39m (\n\u001b[1;32m     25\u001b[0m         \u001b[38;5;28mself\u001b[39m\u001b[38;5;241m.\u001b[39msplit(\u001b[38;5;28mself\u001b[39m\u001b[38;5;241m.\u001b[39msamples, \u001b[38;5;28mself\u001b[39m\u001b[38;5;241m.\u001b[39mlabels, ratio\u001b[38;5;241m=\u001b[39m\u001b[38;5;241m1\u001b[39m \u001b[38;5;241m/\u001b[39m \u001b[38;5;241m6\u001b[39m)\n\u001b[1;32m     26\u001b[0m     )\n",
      "File \u001b[0;32m~/code/whistle/whistlenet/whistlenet/data/audiomnist.py:76\u001b[0m, in \u001b[0;36mAudioMnistDataset._construct_dataset\u001b[0;34m(self, path)\u001b[0m\n\u001b[1;32m     73\u001b[0m                 data \u001b[38;5;241m=\u001b[39m padded_data\n\u001b[1;32m     74\u001b[0m             samples\u001b[38;5;241m.\u001b[39mappend(data)\n\u001b[0;32m---> 76\u001b[0m \u001b[38;5;28mself\u001b[39m\u001b[38;5;241m.\u001b[39msamples \u001b[38;5;241m=\u001b[39m \u001b[43mtorch\u001b[49m\u001b[38;5;241;43m.\u001b[39;49m\u001b[43mvstack\u001b[49m\u001b[43m(\u001b[49m\n\u001b[1;32m     77\u001b[0m \u001b[43m    \u001b[49m\u001b[43m[\u001b[49m\u001b[43msamples\u001b[49m\u001b[43m[\u001b[49m\u001b[43mi\u001b[49m\u001b[43m]\u001b[49m\u001b[43m \u001b[49m\u001b[38;5;28;43;01mfor\u001b[39;49;00m\u001b[43m \u001b[49m\u001b[43mi\u001b[49m\u001b[43m \u001b[49m\u001b[38;5;129;43;01min\u001b[39;49;00m\u001b[43m \u001b[49m\u001b[38;5;28;43mrange\u001b[39;49m\u001b[43m(\u001b[49m\u001b[38;5;28;43mlen\u001b[39;49m\u001b[43m(\u001b[49m\u001b[43msamples\u001b[49m\u001b[43m)\u001b[49m\u001b[43m)\u001b[49m\u001b[43m]\u001b[49m\n\u001b[1;32m     78\u001b[0m \u001b[43m\u001b[49m\u001b[43m)\u001b[49m\n\u001b[1;32m     79\u001b[0m \u001b[38;5;28mself\u001b[39m\u001b[38;5;241m.\u001b[39mlabels \u001b[38;5;241m=\u001b[39m torch\u001b[38;5;241m.\u001b[39mtensor(labels, dtype\u001b[38;5;241m=\u001b[39mtorch\u001b[38;5;241m.\u001b[39mint)\n\u001b[1;32m     80\u001b[0m \u001b[38;5;28mself\u001b[39m\u001b[38;5;241m.\u001b[39mclasses \u001b[38;5;241m=\u001b[39m np\u001b[38;5;241m.\u001b[39munique(\u001b[38;5;28mself\u001b[39m\u001b[38;5;241m.\u001b[39mlabels)\n",
      "\u001b[0;31mRuntimeError\u001b[0m: Sizes of tensors must match except in dimension 0. Expected size 38210 but got size 27221 for tensor number 1 in the list."
     ]
    }
   ],
   "source": [
    "from whistlenet.data.audiomnist import AudioMnistDataset\n",
    "from whistlenet.core.utils import plot, NUM_FREQS\n",
    "\n",
    "dataset = AudioMnistDataset(dataset_config)\n",
    "dataset.summarize()\n",
    "# reshaped = dataset.train_data.reshape((dataset.train_data.data.shape[0], NUM_FREQS))"
   ]
  },
  {
   "cell_type": "code",
   "execution_count": 3,
   "metadata": {},
   "outputs": [
    {
     "ename": "NameError",
     "evalue": "name 'dataset' is not defined",
     "output_type": "error",
     "traceback": [
      "\u001b[0;31m---------------------------------------------------------------------------\u001b[0m",
      "\u001b[0;31mNameError\u001b[0m                                 Traceback (most recent call last)",
      "Cell \u001b[0;32mIn[3], line 1\u001b[0m\n\u001b[0;32m----> 1\u001b[0m \u001b[38;5;28mprint\u001b[39m(\u001b[43mdataset\u001b[49m\u001b[38;5;241m.\u001b[39mtrain_data\u001b[38;5;241m.\u001b[39mdata\u001b[38;5;241m.\u001b[39mshape)\n",
      "\u001b[0;31mNameError\u001b[0m: name 'dataset' is not defined"
     ]
    }
   ],
   "source": [
    "print(dataset.train_data.data.shape)"
   ]
  }
 ],
 "metadata": {
  "kernelspec": {
   "display_name": "default",
   "language": "python",
   "name": "python3"
  },
  "language_info": {
   "codemirror_mode": {
    "name": "ipython",
    "version": 3
   },
   "file_extension": ".py",
   "mimetype": "text/x-python",
   "name": "python",
   "nbconvert_exporter": "python",
   "pygments_lexer": "ipython3",
   "version": "3.9.0"
  }
 },
 "nbformat": 4,
 "nbformat_minor": 2
}
